{
 "cells": [
  {
   "cell_type": "markdown",
   "id": "734724b7-a6da-43d4-831d-1ea44c2dec8c",
   "metadata": {},
   "source": [
    "# Introduction to the Pandas Manual: Harnessing the Power of Data Analysis and Manipulation"
   ]
  },
  {
   "cell_type": "markdown",
   "id": "fba1266a-77f2-45d6-8d36-7461af14f96d",
   "metadata": {},
   "source": [
    "\n",
    "Welcome to our in-depth manual on Pandas, a cornerstone Python library that is indispensable in the realms of data science and analysis. Pandas provides a rich set of tools and functions that make data analysis, manipulation, and visualization both accessible and powerful.\n",
    "\n",
    "Pandas, short for \"Panel Data\", is an open-source library that offers high-level data structures and a vast array of tools for practical data analysis in Python. It has become synonymous with data wrangling, offering the DataFrame as its central data structure, which is effectively a table or a two-dimensional, size-mutable, and potentially heterogeneous tabular data structure with labeled axes (rows and columns).\n",
    "\n",
    "To begin using Pandas, it's typically imported alongside NumPy, another key library for numerical computations. The conventional way to import Pandas is as follows:\n",
    "\n",
    "```python\n",
    "import pandas as pd\n",
    "import numpy as np\n",
    "```\n",
    "\n",
    "In this manual, we will explore the multifaceted features of Pandas, covering a wide range of functionalities that cater to the needs of data analysts and scientists. Our guide will walk you through the following key areas:\n",
    "\n",
    "1. **Data Loading:** Learn how to efficiently import data into Pandas from different sources such as CSV files, Excel sheets, and databases.\n",
    "\n",
    "2. **Basic Data Inspection:** Understand the structure and content of your data through simple yet powerful inspection techniques.\n",
    "\n",
    "3. **Data Cleaning:** Learn to identify and rectify inconsistencies, missing values, and anomalies in your dataset, ensuring data quality and reliability.\n",
    "\n",
    "4. **Data Transformation:** Discover methods to reshape, aggregate, and modify data to suit your analytical needs.\n",
    "\n",
    "5. **Data Visualization:** Integrate Pandas with visualization tools to create insightful and compelling graphical representations of your data.\n",
    "\n",
    "6. **Statistical Analysis:** Utilize Pandas for descriptive and inferential statistics, making data-driven decisions easier and more accurate.\n",
    "\n",
    "7. **Indexing and Selection:** Master the art of accessing and selecting data subsets efficiently for analysis.\n",
    "\n",
    "8. **Data Formatting and Conversion:** Adapt your data into the desired format, enhancing its usability and compatibility with different analysis tools.\n",
    "\n",
    "9. **Advanced Data Transformation:** Delve deeper into sophisticated data transformation techniques for complex data manipulation tasks.\n",
    "\n",
    "10. **Handling Time Series Data:** Explore the handling of time-stamped data, crucial for time series analysis and forecasting.\n",
    "\n",
    "11. **File Import/Export:** Learn how to effortlessly read from and write to various file formats, making data interchange seamless.\n",
    "\n",
    "12. **Advanced Queries:** Employ advanced querying techniques to extract specific insights from large datasets.\n",
    "\n",
    "13. **Multi-Index Operations:** Understand the multi-level indexing to work with high-dimensional data more effectively.\n",
    "\n",
    "14. **Data Merging Techniques:** Explore various strategies to combine datasets, enhancing your analytical possibilities.\n",
    "\n",
    "15. **Dealing with Duplicates:** Detect and handle duplicate records to maintain the integrity of your analysis.\n",
    "\n",
    "16. **Custom Operations with Apply:** Harness the power of custom functions to extend Pandas' capabilities.\n",
    "\n",
    "17. **Integration with Matplotlib for Custom Plots:** Create bespoke plots by integrating Pandas with Matplotlib, a leading plotting library.\n",
    "\n",
    "18. **Advanced Grouping and Aggregation:** Perform complex grouping and aggregation operations for sophisticated data summaries.\n",
    "\n",
    "19. **Text Data Specific Operations:** Manipulate and analyze textual data effectively using Pandas' string functions.\n",
    "\n",
    "20. **Working with JSON and XML:** Handle modern data formats like JSON and XML with ease.\n",
    "\n",
    "21. **Advanced File Handling:** Learn advanced techniques for managing file I/O operations.\n",
    "\n",
    "22. **Dealing with Missing Data:** Develop strategies to address and impute missing values in your datasets.\n",
    "\n",
    "23. **Data Reshaping:** Transform the structure of your data to facilitate different types of analysis.\n",
    "\n",
    "24. **Categorical Data Operations:** Efficiently manage and analyze categorical data.\n",
    "\n",
    "25. **Advanced Indexing:** Leverage advanced indexing techniques for more powerful data manipulation.\n",
    "\n",
    "26. **Efficient Computations:** Optimize performance for large-scale data operations.\n",
    "\n",
    "27. **Advanced Data Merging:** Explore sophisticated data merging and joining techniques for complex datasets.\n",
    "\n",
    "28. **Data Quality Checks:** Implement strategies to ensure and maintain the quality of your data throughout the analysis process.\n",
    "\n",
    "This manual is designed to empower you with the knowledge and skills to effectively manipulate and analyze data using Pandas, turning raw data into valuable insights. Let's begin our journey into the world of data analysis with Pandas.\n",
    "\n",
    "Pandas, being a cornerstone in the Python data analysis landscape, has a wealth of resources and references available for those looking to delve deeper into its capabilities. Below are some key references and resources where you can find additional information, documentation, and support for working with Pandas:\n",
    "\n",
    "1. **Official Pandas Website and Documentation:**\n",
    "    - The official website for Pandas is [pandas.pydata.org](https://pandas.pydata.org/). Here, you can find comprehensive documentation, including a detailed user guide, API reference, and numerous tutorials. The documentation is an invaluable resource for both beginners and experienced users, offering detailed explanations of Pandas' functionalities along with examples.\n",
    "\n",
    "2. **Pandas GitHub Repository:**\n",
    "    - The Pandas GitHub repository, [github.com/pandas-dev/pandas](https://github.com/pandas-dev/pandas), is the primary source of the latest source code. It's also a hub for the development community where you can report issues, contribute to the codebase, and review upcoming features.\n",
    "\n",
    "3. **Pandas Community and Support:**\n",
    "    - **Stack Overflow:** A large number of questions and answers can be found under the 'pandas' tag on Stack Overflow. It's a great place to seek help and contribute to community discussions.\n",
    "    - **Mailing List:** Pandas has an active mailing list for discussion and asking questions about usage and development.\n",
    "    - **Social Media:** Follow Pandas on platforms like Twitter for updates, tips, and community interactions.\n",
    "\n",
    "4. **Scientific Python Ecosystem:**\n",
    "    - Pandas is a part of the larger ecosystem of scientific computing in Python, which includes libraries like NumPy, SciPy, Matplotlib, and IPython. Understanding these libraries in conjunction with Pandas can be highly beneficial.\n",
    "\n",
    "5. **Books and Online Courses:**\n",
    "    - There are numerous books and online courses available that cover Pandas, often within the broader context of Python data analysis and data science. These can be excellent resources for structured learning and in-depth understanding.\n",
    "\n",
    "6. **Community Conferences and Meetups:**\n",
    "    - Python and data science conferences often feature talks and workshops on Pandas. Local Python meetups can also be a good place to learn from and network with other users.\n",
    "\n",
    "7. **Jupyter Notebooks:**\n",
    "    - Many online repositories and platforms host Jupyter Notebooks showcasing Pandas use cases. These interactive notebooks are excellent for learning by example and experimenting with code.\n",
    "\n",
    "By exploring these resources, you can deepen your understanding of Pandas, stay updated with the latest developments, and connect with a vibrant community of users and contributors.\n"
   ]
  },
  {
   "cell_type": "markdown",
   "id": "227b9dfc-a0ec-406b-9507-9b88d1026fbf",
   "metadata": {},
   "source": [
    "## Data Loading\n",
    "\n",
    "Efficient data loading is fundamental to any data analysis process. Pandas offers several functions to read data from different formats, making it easier to manipulate and analyze the data. In this chapter, we will explore how to read data from CSV files, Excel files, and SQL databases using Pandas.\n",
    "\n",
    "### Read CSV File\n",
    "\n",
    "The `read_csv` function is used to load data from CSV files into a DataFrame. This function is highly customizable with numerous parameters to handle different formats and data types. Here is a basic example:\n",
    "\n",
    "```python\n",
    "import pandas as pd\n",
    "\n",
    "# Load data from a CSV file into a DataFrame\n",
    "df = pd.read_csv('filename.csv')\n",
    "```\n",
    "\n",
    "This command reads data from 'filename.csv' and stores it in the DataFrame `df`. The file path can be a URL or a local file path.\n",
    "\n",
    "### Read Excel File\n",
    "\n",
    "To read data from an Excel file, use the `read_excel` function. This function supports reading from both xls and xlsx file formats and allows you to specify the sheet to be loaded.\n",
    "\n",
    "```python\n",
    "# Load data from an Excel file into a DataFrame\n",
    "df = pd.read_excel('filename.xlsx')\n",
    "```\n",
    "\n",
    "This reads the first sheet in the Excel workbook 'filename.xlsx' by default. You can specify a different sheet by using the `sheet_name` parameter.\n",
    "\n",
    "### Read from SQL Database\n",
    "\n",
    "Pandas can also load data directly from a SQL database using the `read_sql` function. This function requires a SQL query and a connection object to the database.\n",
    "\n",
    "```python\n",
    "import sqlalchemy\n",
    "\n",
    "# Create a connection to a SQL database\n",
    "engine = sqlalchemy.create_engine('sqlite:///example.db')\n",
    "query = \"SELECT * FROM my_table\"\n",
    "\n",
    "# Load data from a SQL database into a DataFrame\n",
    "df = pd.read_sql(query, engine)\n",
    "```\n",
    "\n",
    "This example demonstrates how to connect to a SQLite database and read data from 'my_table' into a DataFrame.\n"
   ]
  },
  {
   "cell_type": "markdown",
   "id": "c5b960b0-8cb4-451c-8882-485fe3732728",
   "metadata": {},
   "source": [
    "## Basic Data Inspection\n",
    "\n",
    "### Display Top Rows (`df.head()`)\n",
    "\n",
    "This command,`df.head()`, displays the first five rows of the DataFrame, providing a quick glimpse of the data, including column names and some of the values.\n",
    "\n",
    "```plaintext\n",
    "A         B    C          D         E\n",
    "0  81  0.692744  Yes 2023-01-01 -1.082325\n",
    "1  54  0.316586  Yes 2023-01-02  0.031455\n",
    "2  57  0.860911  Yes 2023-01-03 -2.599667\n",
    "3   6  0.182256   No 2023-01-04 -0.603517\n",
    "4  82  0.210502   No 2023-01-05 -0.484947\n",
    "```\n",
    "\n",
    "### Display Bottom Rows (`df.tail()`)\n",
    "\n",
    "This command,`df.tail()`, shows the last five rows of the DataFrame, useful for checking the end of your dataset.\n",
    "\n",
    "```plaintext\n",
    "    A         B    C          D         E\n",
    "5  73  0.463415   No 2023-01-06 -0.442890\n",
    "6  13  0.513276   No 2023-01-07 -0.289926\n",
    "7  23  0.528147  Yes 2023-01-08  1.521620\n",
    "8  87  0.138674  Yes 2023-01-09 -0.026802\n",
    "9  39  0.005347   No 2023-01-10 -0.159331\n",
    "```\n",
    "\n",
    "### Display Data Types (`df.dtypes`)\n",
    "\n",
    "This command, `df.types()`, returns the data types of each column in the DataFrame. It's helpful to understand the kind of data (integers, floats, strings, etc.) each column holds.\n",
    "\n",
    "```plaintext\n",
    "A             int64\n",
    "B           float64\n",
    "C            object\n",
    "D    datetime64[ns]\n",
    "E           float64\n",
    "```\n",
    "\n",
    "### Summary Statistics (`df.describe()`)\n",
    "\n",
    "This command, `df.describe()`, provides descriptive statistics that summarize the central tendency, dispersion, and shape of a dataset’s distribution, excluding `NaN` values. It's useful for a quick statistical overview.\n",
    "\n",
    "```plaintext\n",
    "            A          B          E\n",
    "count  10.000000  10.000000  10.000000\n",
    "mean   51.500000   0.391186  -0.413633\n",
    "std    29.963867   0.267698   1.024197\n",
    "min     6.000000   0.005347  -2.599667\n",
    "25%    27.000000   0.189317  -0.573874\n",
    "50%    55.500000   0.390001  -0.366408\n",
    "75%    79.000000   0.524429  -0.059934\n",
    "max    87.000000   0.860911   1.521620\n",
    "```\n",
    "\n",
    "### Display Index, Columns, and Data (`df.info()`)\n",
    "\n",
    "This command, `df.info()`, provides a concise summary of the DataFrame, including the number of non-null values in each column and the memory usage. It's essential for initial data assessment.\n",
    "\n",
    "```plaintext\n",
    "<class 'pandas.core.frame.DataFrame'>\n",
    "RangeIndex: 10 entries, 0 to 9\n",
    "Data columns (total 5 columns):\n",
    "#   Column  Non-Null Count  Dtype\n",
    "---  ------  --------------  -----\n",
    "0   A       10 non-null     int64\n",
    "1   B       10 non-null     float64\n",
    "2   C       10 non-null     object\n",
    "3   D       10 non-null     datetime64[ns]\n",
    "4   E       10 non-null     float64\n",
    "dtypes: datetime64[ns](1), float64(2), int64(1), object(1)\n",
    "memory usage: 528.0 bytes\n",
    "```\n"
   ]
  },
  {
   "cell_type": "markdown",
   "id": "6fe6f902-9ed3-45c3-b68c-b54d180d724f",
   "metadata": {},
   "source": [
    "## Data Cleaning\n",
    "\n",
    "Let's go through the data cleaning process in a more detailed manner, step by step. We will start by creating a DataFrame that includes missing (`NA` or `null`) values, then apply various data cleaning operations, showing both the commands used and the resulting outputs.\n",
    "\n",
    "First, we create a sample DataFrame that includes some missing values:\n",
    "\n",
    "```python\n",
    "import pandas as pd\n",
    "\n",
    "# Sample DataFrame with missing values\n",
    "data = {\n",
    "    'old_name': [1, 2, None, 4, 5],\n",
    "    'B': [10, None, 12, None, 14],\n",
    "    'C': ['A', 'B', 'C', 'D', 'E'],\n",
    "    'D': pd.date_range(start = '2023-01-01', periods = 5, freq = 'D'),\n",
    "    'E': [20, 21, 22, 23, 24]\n",
    "}\n",
    "df = pd.DataFrame(data)\n",
    "```"
   ]
  },
  {
   "cell_type": "code",
   "execution_count": 85,
   "id": "94cedd1c-68a1-41e9-8edc-3f979db15a45",
   "metadata": {},
   "outputs": [],
   "source": [
    "import pandas as pd\n",
    "\n",
    "# Sample DataFrame with missing values\n",
    "data = {\n",
    "    'old_name': [1, 2, None, 4, 5],\n",
    "    'B': [10, None, 12, None, 14],\n",
    "    'C': ['A', 'B', 'C', 'D', 'E'],\n",
    "    'D': pd.date_range(start = '2023-01-01', periods = 5, freq = 'D'),\n",
    "    'E': [20, 21, 22, 23, 24]\n",
    "}\n",
    "df = pd.DataFrame(data)"
   ]
  },
  {
   "cell_type": "markdown",
   "id": "621178fd-217d-4c95-8c26-14c899f0c465",
   "metadata": {},
   "source": [
    "This DataFrame contains missing values in columns 'old_name' and 'B'.\n",
    "\n",
    "### Checking for Missing Values\n",
    "\n",
    "To find out where the missing values are located, we use:\n",
    "\n",
    "```python\n",
    "missing_values = df.isnull().sum()\n",
    "```\n",
    "\n",
    "Result:\n",
    "\n",
    "```plaintext\n",
    "old_name    1\n",
    "B           2\n",
    "C           0\n",
    "D           0\n",
    "E           0\n",
    "dtype: int64\n",
    "```"
   ]
  },
  {
   "cell_type": "code",
   "execution_count": 86,
   "id": "2123f8d7-b97f-4771-8956-be88fc7e46ac",
   "metadata": {},
   "outputs": [
    {
     "data": {
      "text/plain": [
       "old_name    1\n",
       "B           2\n",
       "C           0\n",
       "D           0\n",
       "E           0\n",
       "dtype: int64"
      ]
     },
     "execution_count": 86,
     "metadata": {},
     "output_type": "execute_result"
    }
   ],
   "source": [
    "missing_values = df.isnull().sum()\n",
    "missing_values"
   ]
  },
  {
   "cell_type": "markdown",
   "id": "ab31eb33-c44d-4c60-951e-9fd95a3a38ae",
   "metadata": {},
   "source": [
    "### Filling Missing Values\n",
    "\n",
    "We can fill missing values with a specific value or a computed value (like the mean of the column):\n",
    "\n",
    "```python\n",
    "filled_df = df.fillna({'old_name': 0, 'B': df['B'].mean()})\n",
    "```\n",
    "\n",
    "Result:\n",
    "\n",
    "```plaintext\n",
    "   old_name     B  C          D   E\n",
    "0       1.0  10.0  A 2023-01-01  20\n",
    "1       2.0  12.0  B 2023-01-02  21\n",
    "2       0.0  12.0  C 2023-01-03  22\n",
    "3       4.0  12.0  D 2023-01-04  23\n",
    "4       5.0  14.0  E 2023-01-05  24\n",
    "```"
   ]
  },
  {
   "cell_type": "code",
   "execution_count": 87,
   "id": "16829525-2742-4959-aeab-c3b22fa9f59f",
   "metadata": {},
   "outputs": [
    {
     "data": {
      "text/html": [
       "<div>\n",
       "<style scoped>\n",
       "    .dataframe tbody tr th:only-of-type {\n",
       "        vertical-align: middle;\n",
       "    }\n",
       "\n",
       "    .dataframe tbody tr th {\n",
       "        vertical-align: top;\n",
       "    }\n",
       "\n",
       "    .dataframe thead th {\n",
       "        text-align: right;\n",
       "    }\n",
       "</style>\n",
       "<table border=\"1\" class=\"dataframe\">\n",
       "  <thead>\n",
       "    <tr style=\"text-align: right;\">\n",
       "      <th></th>\n",
       "      <th>old_name</th>\n",
       "      <th>B</th>\n",
       "      <th>C</th>\n",
       "      <th>D</th>\n",
       "      <th>E</th>\n",
       "    </tr>\n",
       "  </thead>\n",
       "  <tbody>\n",
       "    <tr>\n",
       "      <th>0</th>\n",
       "      <td>1.0</td>\n",
       "      <td>10.0</td>\n",
       "      <td>A</td>\n",
       "      <td>2023-01-01</td>\n",
       "      <td>20</td>\n",
       "    </tr>\n",
       "    <tr>\n",
       "      <th>1</th>\n",
       "      <td>2.0</td>\n",
       "      <td>12.0</td>\n",
       "      <td>B</td>\n",
       "      <td>2023-01-02</td>\n",
       "      <td>21</td>\n",
       "    </tr>\n",
       "    <tr>\n",
       "      <th>2</th>\n",
       "      <td>0.0</td>\n",
       "      <td>12.0</td>\n",
       "      <td>C</td>\n",
       "      <td>2023-01-03</td>\n",
       "      <td>22</td>\n",
       "    </tr>\n",
       "    <tr>\n",
       "      <th>3</th>\n",
       "      <td>4.0</td>\n",
       "      <td>12.0</td>\n",
       "      <td>D</td>\n",
       "      <td>2023-01-04</td>\n",
       "      <td>23</td>\n",
       "    </tr>\n",
       "    <tr>\n",
       "      <th>4</th>\n",
       "      <td>5.0</td>\n",
       "      <td>14.0</td>\n",
       "      <td>E</td>\n",
       "      <td>2023-01-05</td>\n",
       "      <td>24</td>\n",
       "    </tr>\n",
       "  </tbody>\n",
       "</table>\n",
       "</div>"
      ],
      "text/plain": [
       "   old_name     B  C          D   E\n",
       "0       1.0  10.0  A 2023-01-01  20\n",
       "1       2.0  12.0  B 2023-01-02  21\n",
       "2       0.0  12.0  C 2023-01-03  22\n",
       "3       4.0  12.0  D 2023-01-04  23\n",
       "4       5.0  14.0  E 2023-01-05  24"
      ]
     },
     "execution_count": 87,
     "metadata": {},
     "output_type": "execute_result"
    }
   ],
   "source": [
    "filled_df = df.fillna({'old_name': 0, 'B': df['B'].mean()})\n",
    "filled_df"
   ]
  },
  {
   "cell_type": "markdown",
   "id": "45a90b93-c3d5-4621-8bd9-0bd8b3b0e091",
   "metadata": {},
   "source": [
    "### Dropping Missing Values\n",
    "\n",
    "Alternatively, we can drop rows with missing values:\n",
    "\n",
    "```python\n",
    "dropped_df = df.dropna(axis = 'index')\n",
    "```\n",
    "\n",
    "Result:\n",
    "\n",
    "```plaintext\n",
    "   old_name     B  C          D   E\n",
    "0       1.0  10.0  A 2023-01-01  20\n",
    "4       5.0  14.0  E 2023-01-05  24\n",
    "```\n",
    "\n",
    "We can also drop columns with missing values:\n",
    "\n",
    "```python\n",
    "dropped_df = df.dropna(axis = 'columns')\n",
    "```\n",
    "\n",
    "Result:\n",
    "\n",
    "```plaintext\n",
    "   C          D   E\n",
    "0  A 2023-01-01  20\n",
    "1  B 2023-01-02  21\n",
    "2  C 2023-01-03  22\n",
    "3  D 2023-01-04  23\n",
    "4  E 2023-01-05  24\n",
    "```"
   ]
  },
  {
   "cell_type": "code",
   "execution_count": 88,
   "id": "1e06dd86-01bc-46d4-abd1-6f034b88fd1b",
   "metadata": {},
   "outputs": [
    {
     "data": {
      "text/html": [
       "<div>\n",
       "<style scoped>\n",
       "    .dataframe tbody tr th:only-of-type {\n",
       "        vertical-align: middle;\n",
       "    }\n",
       "\n",
       "    .dataframe tbody tr th {\n",
       "        vertical-align: top;\n",
       "    }\n",
       "\n",
       "    .dataframe thead th {\n",
       "        text-align: right;\n",
       "    }\n",
       "</style>\n",
       "<table border=\"1\" class=\"dataframe\">\n",
       "  <thead>\n",
       "    <tr style=\"text-align: right;\">\n",
       "      <th></th>\n",
       "      <th>old_name</th>\n",
       "      <th>B</th>\n",
       "      <th>C</th>\n",
       "      <th>D</th>\n",
       "      <th>E</th>\n",
       "    </tr>\n",
       "  </thead>\n",
       "  <tbody>\n",
       "    <tr>\n",
       "      <th>0</th>\n",
       "      <td>1.0</td>\n",
       "      <td>10.0</td>\n",
       "      <td>A</td>\n",
       "      <td>2023-01-01</td>\n",
       "      <td>20</td>\n",
       "    </tr>\n",
       "    <tr>\n",
       "      <th>4</th>\n",
       "      <td>5.0</td>\n",
       "      <td>14.0</td>\n",
       "      <td>E</td>\n",
       "      <td>2023-01-05</td>\n",
       "      <td>24</td>\n",
       "    </tr>\n",
       "  </tbody>\n",
       "</table>\n",
       "</div>"
      ],
      "text/plain": [
       "   old_name     B  C          D   E\n",
       "0       1.0  10.0  A 2023-01-01  20\n",
       "4       5.0  14.0  E 2023-01-05  24"
      ]
     },
     "execution_count": 88,
     "metadata": {},
     "output_type": "execute_result"
    }
   ],
   "source": [
    "dropped_df = df.dropna(axis = 'index')\n",
    "dropped_df"
   ]
  },
  {
   "cell_type": "code",
   "execution_count": 89,
   "id": "78245d97-167e-4365-a82c-6b92acca0db2",
   "metadata": {},
   "outputs": [
    {
     "data": {
      "text/html": [
       "<div>\n",
       "<style scoped>\n",
       "    .dataframe tbody tr th:only-of-type {\n",
       "        vertical-align: middle;\n",
       "    }\n",
       "\n",
       "    .dataframe tbody tr th {\n",
       "        vertical-align: top;\n",
       "    }\n",
       "\n",
       "    .dataframe thead th {\n",
       "        text-align: right;\n",
       "    }\n",
       "</style>\n",
       "<table border=\"1\" class=\"dataframe\">\n",
       "  <thead>\n",
       "    <tr style=\"text-align: right;\">\n",
       "      <th></th>\n",
       "      <th>C</th>\n",
       "      <th>D</th>\n",
       "      <th>E</th>\n",
       "    </tr>\n",
       "  </thead>\n",
       "  <tbody>\n",
       "    <tr>\n",
       "      <th>0</th>\n",
       "      <td>A</td>\n",
       "      <td>2023-01-01</td>\n",
       "      <td>20</td>\n",
       "    </tr>\n",
       "    <tr>\n",
       "      <th>1</th>\n",
       "      <td>B</td>\n",
       "      <td>2023-01-02</td>\n",
       "      <td>21</td>\n",
       "    </tr>\n",
       "    <tr>\n",
       "      <th>2</th>\n",
       "      <td>C</td>\n",
       "      <td>2023-01-03</td>\n",
       "      <td>22</td>\n",
       "    </tr>\n",
       "    <tr>\n",
       "      <th>3</th>\n",
       "      <td>D</td>\n",
       "      <td>2023-01-04</td>\n",
       "      <td>23</td>\n",
       "    </tr>\n",
       "    <tr>\n",
       "      <th>4</th>\n",
       "      <td>E</td>\n",
       "      <td>2023-01-05</td>\n",
       "      <td>24</td>\n",
       "    </tr>\n",
       "  </tbody>\n",
       "</table>\n",
       "</div>"
      ],
      "text/plain": [
       "   C          D   E\n",
       "0  A 2023-01-01  20\n",
       "1  B 2023-01-02  21\n",
       "2  C 2023-01-03  22\n",
       "3  D 2023-01-04  23\n",
       "4  E 2023-01-05  24"
      ]
     },
     "execution_count": 89,
     "metadata": {},
     "output_type": "execute_result"
    }
   ],
   "source": [
    "dropped_df = df.dropna(axis = 'columns')\n",
    "dropped_df"
   ]
  },
  {
   "cell_type": "markdown",
   "id": "59bf709a-f18b-4984-86e5-18e811965b7e",
   "metadata": {},
   "source": [
    "### Renaming Columns\n",
    "\n",
    "To rename columns for clarity or standardization:\n",
    "\n",
    "```python\n",
    "renamed_df = df.rename(columns = {'old_name': 'A'})\n",
    "```\n",
    "\n",
    "Result:\n",
    "\n",
    "```plaintext\n",
    "     A     B  C          D   E\n",
    "0  1.0  10.0  A 2023-01-01  20\n",
    "1  2.0   NaN  B 2023-01-02  21\n",
    "2  NaN  12.0  C 2023-01-03  22\n",
    "3  4.0   NaN  D 2023-01-04  23\n",
    "4  5.0  14.0  E 2023-01-05  24\n",
    "```"
   ]
  },
  {
   "cell_type": "code",
   "execution_count": 90,
   "id": "3711d39a-cfd4-4adb-8ccb-768fb0eb7ad6",
   "metadata": {},
   "outputs": [
    {
     "data": {
      "text/html": [
       "<div>\n",
       "<style scoped>\n",
       "    .dataframe tbody tr th:only-of-type {\n",
       "        vertical-align: middle;\n",
       "    }\n",
       "\n",
       "    .dataframe tbody tr th {\n",
       "        vertical-align: top;\n",
       "    }\n",
       "\n",
       "    .dataframe thead th {\n",
       "        text-align: right;\n",
       "    }\n",
       "</style>\n",
       "<table border=\"1\" class=\"dataframe\">\n",
       "  <thead>\n",
       "    <tr style=\"text-align: right;\">\n",
       "      <th></th>\n",
       "      <th>A</th>\n",
       "      <th>B</th>\n",
       "      <th>C</th>\n",
       "      <th>D</th>\n",
       "      <th>E</th>\n",
       "    </tr>\n",
       "  </thead>\n",
       "  <tbody>\n",
       "    <tr>\n",
       "      <th>0</th>\n",
       "      <td>1.0</td>\n",
       "      <td>10.0</td>\n",
       "      <td>A</td>\n",
       "      <td>2023-01-01</td>\n",
       "      <td>20</td>\n",
       "    </tr>\n",
       "    <tr>\n",
       "      <th>1</th>\n",
       "      <td>2.0</td>\n",
       "      <td>NaN</td>\n",
       "      <td>B</td>\n",
       "      <td>2023-01-02</td>\n",
       "      <td>21</td>\n",
       "    </tr>\n",
       "    <tr>\n",
       "      <th>2</th>\n",
       "      <td>NaN</td>\n",
       "      <td>12.0</td>\n",
       "      <td>C</td>\n",
       "      <td>2023-01-03</td>\n",
       "      <td>22</td>\n",
       "    </tr>\n",
       "    <tr>\n",
       "      <th>3</th>\n",
       "      <td>4.0</td>\n",
       "      <td>NaN</td>\n",
       "      <td>D</td>\n",
       "      <td>2023-01-04</td>\n",
       "      <td>23</td>\n",
       "    </tr>\n",
       "    <tr>\n",
       "      <th>4</th>\n",
       "      <td>5.0</td>\n",
       "      <td>14.0</td>\n",
       "      <td>E</td>\n",
       "      <td>2023-01-05</td>\n",
       "      <td>24</td>\n",
       "    </tr>\n",
       "  </tbody>\n",
       "</table>\n",
       "</div>"
      ],
      "text/plain": [
       "     A     B  C          D   E\n",
       "0  1.0  10.0  A 2023-01-01  20\n",
       "1  2.0   NaN  B 2023-01-02  21\n",
       "2  NaN  12.0  C 2023-01-03  22\n",
       "3  4.0   NaN  D 2023-01-04  23\n",
       "4  5.0  14.0  E 2023-01-05  24"
      ]
     },
     "execution_count": 90,
     "metadata": {},
     "output_type": "execute_result"
    }
   ],
   "source": [
    "renamed_df = df.rename(columns = {'old_name': 'A'})\n",
    "renamed_df"
   ]
  },
  {
   "cell_type": "markdown",
   "id": "40e1c7be-9ccf-4d08-bb1e-d399ed5e8069",
   "metadata": {},
   "source": [
    "### Dropping Columns\n",
    "\n",
    "To remove unnecessary columns:\n",
    "\n",
    "```python\n",
    "dropped_columns_df = df.drop(columns = ['E'])\n",
    "```\n",
    "\n",
    "Result:\n",
    "\n",
    "```plaintext\n",
    "   old_name     B  C          D\n",
    "0       1.0  10.0  A 2023-01-01\n",
    "1       2.0   NaN  B 2023-01-02\n",
    "2       NaN  12.0  C 2023-01-03\n",
    "3       4.0   NaN  D 2023-01-04\n",
    "4       5.0  14.0  E 2023-01-05\n",
    "```"
   ]
  },
  {
   "cell_type": "code",
   "execution_count": 91,
   "id": "209232de-3446-4368-a0d8-a23074663191",
   "metadata": {},
   "outputs": [
    {
     "data": {
      "text/html": [
       "<div>\n",
       "<style scoped>\n",
       "    .dataframe tbody tr th:only-of-type {\n",
       "        vertical-align: middle;\n",
       "    }\n",
       "\n",
       "    .dataframe tbody tr th {\n",
       "        vertical-align: top;\n",
       "    }\n",
       "\n",
       "    .dataframe thead th {\n",
       "        text-align: right;\n",
       "    }\n",
       "</style>\n",
       "<table border=\"1\" class=\"dataframe\">\n",
       "  <thead>\n",
       "    <tr style=\"text-align: right;\">\n",
       "      <th></th>\n",
       "      <th>old_name</th>\n",
       "      <th>B</th>\n",
       "      <th>C</th>\n",
       "      <th>D</th>\n",
       "    </tr>\n",
       "  </thead>\n",
       "  <tbody>\n",
       "    <tr>\n",
       "      <th>0</th>\n",
       "      <td>1.0</td>\n",
       "      <td>10.0</td>\n",
       "      <td>A</td>\n",
       "      <td>2023-01-01</td>\n",
       "    </tr>\n",
       "    <tr>\n",
       "      <th>1</th>\n",
       "      <td>2.0</td>\n",
       "      <td>NaN</td>\n",
       "      <td>B</td>\n",
       "      <td>2023-01-02</td>\n",
       "    </tr>\n",
       "    <tr>\n",
       "      <th>2</th>\n",
       "      <td>NaN</td>\n",
       "      <td>12.0</td>\n",
       "      <td>C</td>\n",
       "      <td>2023-01-03</td>\n",
       "    </tr>\n",
       "    <tr>\n",
       "      <th>3</th>\n",
       "      <td>4.0</td>\n",
       "      <td>NaN</td>\n",
       "      <td>D</td>\n",
       "      <td>2023-01-04</td>\n",
       "    </tr>\n",
       "    <tr>\n",
       "      <th>4</th>\n",
       "      <td>5.0</td>\n",
       "      <td>14.0</td>\n",
       "      <td>E</td>\n",
       "      <td>2023-01-05</td>\n",
       "    </tr>\n",
       "  </tbody>\n",
       "</table>\n",
       "</div>"
      ],
      "text/plain": [
       "   old_name     B  C          D\n",
       "0       1.0  10.0  A 2023-01-01\n",
       "1       2.0   NaN  B 2023-01-02\n",
       "2       NaN  12.0  C 2023-01-03\n",
       "3       4.0   NaN  D 2023-01-04\n",
       "4       5.0  14.0  E 2023-01-05"
      ]
     },
     "execution_count": 91,
     "metadata": {},
     "output_type": "execute_result"
    }
   ],
   "source": [
    "dropped_columns_df = df.drop(columns = ['E'])\n",
    "dropped_columns_df"
   ]
  },
  {
   "cell_type": "markdown",
   "id": "7e2ef309-a613-4728-a13f-24203e2c356c",
   "metadata": {},
   "source": [
    "Each of these steps demonstrates a fundamental aspect of data cleaning in Pandas, crucial for preparing your dataset for further analysis."
   ]
  },
  {
   "cell_type": "markdown",
   "id": "b24d5b2d-7ecd-4c3c-993d-cd3e0ad638fd",
   "metadata": {},
   "source": [
    "## Data Transformation\n",
    "\n",
    "Data transformation is a crucial step in preparing your dataset for analysis. Pandas provides powerful tools to transform, summarize, and combine data efficiently. This chapter covers key techniques such as applying functions, grouping and aggregating data, creating pivot tables, and merging or concatenating DataFrames.\n",
    "\n",
    "### Apply Function\n",
    "\n",
    "The `apply` function allows you to apply a custom function to the DataFrame elements. This method is extremely flexible and can be applied to a single column or the entire DataFrame. Here’s an example using `apply` on a single column to calculate the square of each value:\n",
    "\n",
    "```python\n",
    "import pandas as pd\n",
    "\n",
    "# Sample DataFrame\n",
    "data = {'number': [1, 2, 3, 4, 5]}\n",
    "df = pd.DataFrame(data)\n",
    "\n",
    "# Applying a lambda function to square each value\n",
    "df['squared'] = df['number'].apply(lambda x: x**2)\n",
    "```\n",
    "\n",
    "Result:\n",
    "\n",
    "```plaintext\n",
    "   number  squared\n",
    "0       1        1\n",
    "1       2        4\n",
    "2       3        9\n",
    "3       4       16\n",
    "4       5       25\n",
    "```"
   ]
  },
  {
   "cell_type": "code",
   "execution_count": 92,
   "id": "1d2c2037-b161-4958-a5a2-0682bab32db9",
   "metadata": {},
   "outputs": [
    {
     "data": {
      "text/html": [
       "<div>\n",
       "<style scoped>\n",
       "    .dataframe tbody tr th:only-of-type {\n",
       "        vertical-align: middle;\n",
       "    }\n",
       "\n",
       "    .dataframe tbody tr th {\n",
       "        vertical-align: top;\n",
       "    }\n",
       "\n",
       "    .dataframe thead th {\n",
       "        text-align: right;\n",
       "    }\n",
       "</style>\n",
       "<table border=\"1\" class=\"dataframe\">\n",
       "  <thead>\n",
       "    <tr style=\"text-align: right;\">\n",
       "      <th></th>\n",
       "      <th>number</th>\n",
       "      <th>squared</th>\n",
       "    </tr>\n",
       "  </thead>\n",
       "  <tbody>\n",
       "    <tr>\n",
       "      <th>0</th>\n",
       "      <td>1</td>\n",
       "      <td>1</td>\n",
       "    </tr>\n",
       "    <tr>\n",
       "      <th>1</th>\n",
       "      <td>2</td>\n",
       "      <td>4</td>\n",
       "    </tr>\n",
       "    <tr>\n",
       "      <th>2</th>\n",
       "      <td>3</td>\n",
       "      <td>9</td>\n",
       "    </tr>\n",
       "    <tr>\n",
       "      <th>3</th>\n",
       "      <td>4</td>\n",
       "      <td>16</td>\n",
       "    </tr>\n",
       "    <tr>\n",
       "      <th>4</th>\n",
       "      <td>5</td>\n",
       "      <td>25</td>\n",
       "    </tr>\n",
       "  </tbody>\n",
       "</table>\n",
       "</div>"
      ],
      "text/plain": [
       "   number  squared\n",
       "0       1        1\n",
       "1       2        4\n",
       "2       3        9\n",
       "3       4       16\n",
       "4       5       25"
      ]
     },
     "execution_count": 92,
     "metadata": {},
     "output_type": "execute_result"
    }
   ],
   "source": [
    "import pandas as pd\n",
    "\n",
    "# Sample DataFrame\n",
    "data = {'number': [1, 2, 3, 4, 5]}\n",
    "df = pd.DataFrame(data)\n",
    "\n",
    "# Applying a lambda function to square each value\n",
    "df['squared'] = df['number'].apply(lambda x: x**2)\n",
    "df"
   ]
  },
  {
   "cell_type": "markdown",
   "id": "2e6061c0-3a0e-4804-b2e4-a23165f851a0",
   "metadata": {},
   "source": [
    "### Group By and Aggregate\n",
    "\n",
    "Grouping and aggregating data are essential for summarizing data. Here’s how you can group by one column and aggregate another column using `sum`:\n",
    "\n",
    "```python\n",
    "# Sample DataFrame\n",
    "data = {'group': ['A', 'A', 'B', 'B', 'C'], 'value': [10, 15, 10, 20, 30]}\n",
    "df = pd.DataFrame(data)\n",
    "\n",
    "# Group by the 'group' column and sum the 'value' column\n",
    "grouped_df = df.groupby('group').agg({'value': 'sum'})\n",
    "```\n",
    "\n",
    "Result:\n",
    "\n",
    "```plaintext\n",
    "       value\n",
    "group\n",
    "A         25\n",
    "B         30\n",
    "C         30\n",
    "```"
   ]
  },
  {
   "cell_type": "code",
   "execution_count": 93,
   "id": "26d60520-dd29-490b-a6f7-9f9890805961",
   "metadata": {},
   "outputs": [
    {
     "data": {
      "text/html": [
       "<div>\n",
       "<style scoped>\n",
       "    .dataframe tbody tr th:only-of-type {\n",
       "        vertical-align: middle;\n",
       "    }\n",
       "\n",
       "    .dataframe tbody tr th {\n",
       "        vertical-align: top;\n",
       "    }\n",
       "\n",
       "    .dataframe thead th {\n",
       "        text-align: right;\n",
       "    }\n",
       "</style>\n",
       "<table border=\"1\" class=\"dataframe\">\n",
       "  <thead>\n",
       "    <tr style=\"text-align: right;\">\n",
       "      <th></th>\n",
       "      <th>value</th>\n",
       "    </tr>\n",
       "    <tr>\n",
       "      <th>group</th>\n",
       "      <th></th>\n",
       "    </tr>\n",
       "  </thead>\n",
       "  <tbody>\n",
       "    <tr>\n",
       "      <th>A</th>\n",
       "      <td>25</td>\n",
       "    </tr>\n",
       "    <tr>\n",
       "      <th>B</th>\n",
       "      <td>30</td>\n",
       "    </tr>\n",
       "    <tr>\n",
       "      <th>C</th>\n",
       "      <td>30</td>\n",
       "    </tr>\n",
       "  </tbody>\n",
       "</table>\n",
       "</div>"
      ],
      "text/plain": [
       "       value\n",
       "group       \n",
       "A         25\n",
       "B         30\n",
       "C         30"
      ]
     },
     "execution_count": 93,
     "metadata": {},
     "output_type": "execute_result"
    }
   ],
   "source": [
    "# Sample DataFrame\n",
    "data = {'group': ['A', 'A', 'B', 'B', 'C'], 'value': [10, 15, 10, 20, 30]}\n",
    "df = pd.DataFrame(data)\n",
    "\n",
    "# Group by the 'group' column and sum the 'value' column\n",
    "grouped_df = df.groupby('group').agg({'value': 'sum'})\n",
    "grouped_df"
   ]
  },
  {
   "cell_type": "markdown",
   "id": "a412dda2-2f27-44bb-b906-5b985b668ee5",
   "metadata": {},
   "source": [
    "### Pivot Tables\n",
    "\n",
    "Pivot tables are used to summarize and reorganize data in a DataFrame. Here’s an example of creating a pivot table to find the mean values:\n",
    "\n",
    "```python\n",
    "# Sample DataFrame\n",
    "data = {'category': ['A', 'A', 'B', 'B', 'A'], \n",
    "        'value': [100, 200, 300, 400, 150]}\n",
    "df = pd.DataFrame(data)\n",
    "\n",
    "# Creating a pivot table\n",
    "pivot_table = df.pivot_table(index = 'category', values = 'value', aggfunc = 'mean')\n",
    "```\n",
    "\n",
    "Result:\n",
    "\n",
    "```plaintext\n",
    "          value\n",
    "category\n",
    "A         150.0\n",
    "B         350.0\n",
    "```"
   ]
  },
  {
   "cell_type": "code",
   "execution_count": 94,
   "id": "d056bdf3-7dc7-4b39-989e-424885e0ae99",
   "metadata": {},
   "outputs": [
    {
     "data": {
      "text/html": [
       "<div>\n",
       "<style scoped>\n",
       "    .dataframe tbody tr th:only-of-type {\n",
       "        vertical-align: middle;\n",
       "    }\n",
       "\n",
       "    .dataframe tbody tr th {\n",
       "        vertical-align: top;\n",
       "    }\n",
       "\n",
       "    .dataframe thead th {\n",
       "        text-align: right;\n",
       "    }\n",
       "</style>\n",
       "<table border=\"1\" class=\"dataframe\">\n",
       "  <thead>\n",
       "    <tr style=\"text-align: right;\">\n",
       "      <th></th>\n",
       "      <th>value</th>\n",
       "    </tr>\n",
       "    <tr>\n",
       "      <th>category</th>\n",
       "      <th></th>\n",
       "    </tr>\n",
       "  </thead>\n",
       "  <tbody>\n",
       "    <tr>\n",
       "      <th>A</th>\n",
       "      <td>150</td>\n",
       "    </tr>\n",
       "    <tr>\n",
       "      <th>B</th>\n",
       "      <td>350</td>\n",
       "    </tr>\n",
       "  </tbody>\n",
       "</table>\n",
       "</div>"
      ],
      "text/plain": [
       "          value\n",
       "category       \n",
       "A           150\n",
       "B           350"
      ]
     },
     "execution_count": 94,
     "metadata": {},
     "output_type": "execute_result"
    }
   ],
   "source": [
    "# Sample DataFrame\n",
    "data = {'category': ['A', 'A', 'B', 'B', 'A'], \n",
    "        'value': [100, 200, 300, 400, 150]}\n",
    "df = pd.DataFrame(data)\n",
    "\n",
    "# Creating a pivot table\n",
    "pivot_table = df.pivot_table(index = 'category', values = 'value', aggfunc = 'mean')\n",
    "pivot_table"
   ]
  },
  {
   "cell_type": "markdown",
   "id": "d4a4d385-c70d-4e95-8799-2f30fe1757b2",
   "metadata": {},
   "source": [
    "### Merge DataFrames\n",
    "\n",
    "Merging DataFrames is akin to performing SQL joins. Here’s an example of merging two DataFrames on a common column:\n",
    "\n",
    "```python\n",
    "# Sample DataFrames\n",
    "data1 = {'id': [1, 2, 3], \n",
    "         'name': ['Alice', 'Bob', 'Charlie']}\n",
    "df1 = pd.DataFrame(data1)\n",
    "data2 = {'id': [1, 2, 4], \n",
    "         'age': [25, 30, 35]}\n",
    "df2 = pd.DataFrame(data2)\n",
    "\n",
    "# Merging df1 and df2 on the 'id' column\n",
    "merged_df = pd.merge(df1, df2, on = 'id')\n",
    "```\n",
    "\n",
    "Result:\n",
    "\n",
    "```plaintext\n",
    "   id     name  age\n",
    "0   1    Alice   25\n",
    "1   2      Bob   30\n",
    "```"
   ]
  },
  {
   "cell_type": "code",
   "execution_count": 95,
   "id": "067ff033-ef86-42dd-86e8-030dece2e179",
   "metadata": {},
   "outputs": [
    {
     "data": {
      "text/html": [
       "<div>\n",
       "<style scoped>\n",
       "    .dataframe tbody tr th:only-of-type {\n",
       "        vertical-align: middle;\n",
       "    }\n",
       "\n",
       "    .dataframe tbody tr th {\n",
       "        vertical-align: top;\n",
       "    }\n",
       "\n",
       "    .dataframe thead th {\n",
       "        text-align: right;\n",
       "    }\n",
       "</style>\n",
       "<table border=\"1\" class=\"dataframe\">\n",
       "  <thead>\n",
       "    <tr style=\"text-align: right;\">\n",
       "      <th></th>\n",
       "      <th>id</th>\n",
       "      <th>name</th>\n",
       "      <th>age</th>\n",
       "    </tr>\n",
       "  </thead>\n",
       "  <tbody>\n",
       "    <tr>\n",
       "      <th>0</th>\n",
       "      <td>1</td>\n",
       "      <td>Alice</td>\n",
       "      <td>25</td>\n",
       "    </tr>\n",
       "    <tr>\n",
       "      <th>1</th>\n",
       "      <td>2</td>\n",
       "      <td>Bob</td>\n",
       "      <td>30</td>\n",
       "    </tr>\n",
       "  </tbody>\n",
       "</table>\n",
       "</div>"
      ],
      "text/plain": [
       "   id   name  age\n",
       "0   1  Alice   25\n",
       "1   2    Bob   30"
      ]
     },
     "execution_count": 95,
     "metadata": {},
     "output_type": "execute_result"
    }
   ],
   "source": [
    "# Sample DataFrames\n",
    "data1 = {'id': [1, 2, 3], \n",
    "         'name': ['Alice', 'Bob', 'Charlie']}\n",
    "df1 = pd.DataFrame(data1)\n",
    "data2 = {'id': [1, 2, 4], \n",
    "         'age': [25, 30, 35]}\n",
    "df2 = pd.DataFrame(data2)\n",
    "\n",
    "# Merging df1 and df2 on the 'id' column\n",
    "merged_df = pd.merge(df1, df2, on = 'id')\n",
    "merged_df"
   ]
  },
  {
   "cell_type": "markdown",
   "id": "49d2bb89-3143-4f82-87c8-5b104ac1a91a",
   "metadata": {},
   "source": [
    "### Concatenate DataFrames\n",
    "\n",
    "Concatenating DataFrames is useful when you need to combine similar data from different sources. Here’s how to concatenate two DataFrames:\n",
    "\n",
    "```python\n",
    "# Sample DataFrames\n",
    "data3 = {'name': ['David', 'Ella'], 'age': [28, 22]}\n",
    "df3 = pd.DataFrame(data3)\n",
    "\n",
    "# Concatenating df2 and df3\n",
    "concatenated_df = pd.concat([df2, df3])\n",
    "```\n",
    "\n",
    "Result:\n",
    "\n",
    "```plaintext\n",
    "   id   age   name\n",
    "0  1.0   25    NaN\n",
    "1  2.0   30    NaN\n",
    "2  4.0   35    NaN\n",
    "0  NaN   28  David\n",
    "1  NaN   22   Ella\n",
    "```"
   ]
  },
  {
   "cell_type": "code",
   "execution_count": 96,
   "id": "cb5c35a5-07b0-4270-84e5-651556a82bf8",
   "metadata": {},
   "outputs": [
    {
     "data": {
      "text/html": [
       "<div>\n",
       "<style scoped>\n",
       "    .dataframe tbody tr th:only-of-type {\n",
       "        vertical-align: middle;\n",
       "    }\n",
       "\n",
       "    .dataframe tbody tr th {\n",
       "        vertical-align: top;\n",
       "    }\n",
       "\n",
       "    .dataframe thead th {\n",
       "        text-align: right;\n",
       "    }\n",
       "</style>\n",
       "<table border=\"1\" class=\"dataframe\">\n",
       "  <thead>\n",
       "    <tr style=\"text-align: right;\">\n",
       "      <th></th>\n",
       "      <th>id</th>\n",
       "      <th>age</th>\n",
       "      <th>name</th>\n",
       "    </tr>\n",
       "  </thead>\n",
       "  <tbody>\n",
       "    <tr>\n",
       "      <th>0</th>\n",
       "      <td>1.0</td>\n",
       "      <td>25</td>\n",
       "      <td>NaN</td>\n",
       "    </tr>\n",
       "    <tr>\n",
       "      <th>1</th>\n",
       "      <td>2.0</td>\n",
       "      <td>30</td>\n",
       "      <td>NaN</td>\n",
       "    </tr>\n",
       "    <tr>\n",
       "      <th>2</th>\n",
       "      <td>4.0</td>\n",
       "      <td>35</td>\n",
       "      <td>NaN</td>\n",
       "    </tr>\n",
       "    <tr>\n",
       "      <th>0</th>\n",
       "      <td>NaN</td>\n",
       "      <td>28</td>\n",
       "      <td>David</td>\n",
       "    </tr>\n",
       "    <tr>\n",
       "      <th>1</th>\n",
       "      <td>NaN</td>\n",
       "      <td>22</td>\n",
       "      <td>Ella</td>\n",
       "    </tr>\n",
       "  </tbody>\n",
       "</table>\n",
       "</div>"
      ],
      "text/plain": [
       "    id  age   name\n",
       "0  1.0   25    NaN\n",
       "1  2.0   30    NaN\n",
       "2  4.0   35    NaN\n",
       "0  NaN   28  David\n",
       "1  NaN   22   Ella"
      ]
     },
     "execution_count": 96,
     "metadata": {},
     "output_type": "execute_result"
    }
   ],
   "source": [
    "# Sample DataFrames\n",
    "data3 = {'name': ['David', 'Ella'], 'age': [28, 22]}\n",
    "df3 = pd.DataFrame(data3)\n",
    "\n",
    "# Concatenating df2 and df3\n",
    "concatenated_df = pd.concat([df2, df3])\n",
    "concatenated_df"
   ]
  },
  {
   "cell_type": "markdown",
   "id": "9e5ede6d-a989-4431-8aba-4a4dcbf27015",
   "metadata": {},
   "source": [
    "These techniques provide a robust framework for transforming data, allowing you to prepare and analyze your datasets more effectively."
   ]
  },
  {
   "cell_type": "markdown",
   "id": "00eda9f5-d947-4e24-91df-d496742e96e8",
   "metadata": {},
   "source": [
    "## Data Visualization Integration\n",
    "\n",
    "Visualizing data is a powerful way to understand and communicate the underlying patterns and relationships within your dataset. Pandas integrates seamlessly with Matplotlib, a comprehensive library for creating static, animated, and interactive visualizations in Python. This chapter demonstrates how to use Pandas for common data visualizations.\n",
    "\n",
    "### Histogram\n",
    "\n",
    "Histograms are used to plot the distribution of a dataset. Here’s how to create a histogram from a DataFrame column:\n",
    "\n",
    "```python\n",
    "import pandas as pd\n",
    "import matplotlib.pyplot as plt\n",
    "\n",
    "# Sample DataFrame\n",
    "data = {'scores': [88, 76, 90, 84, 65, 79, 93, 80]}\n",
    "df = pd.DataFrame(data)\n",
    "\n",
    "# Creating a histogram\n",
    "df['scores'].hist()\n",
    "plt.title('Distribution of Scores')\n",
    "plt.xlabel('Scores')\n",
    "plt.ylabel('Frequency')\n",
    "plt.show()\n",
    "```"
   ]
  },
  {
   "cell_type": "code",
   "execution_count": 97,
   "id": "fd7d1964-b6a6-48c6-93a4-0feb34a49e4b",
   "metadata": {},
   "outputs": [
    {
     "data": {
      "image/png": "[encoded data removed]",
      "text/plain": [
       "<Figure size 640x480 with 1 Axes>"
      ]
     },
     "metadata": {},
     "output_type": "display_data"
    }
   ],
   "source": [
    "import pandas as pd\n",
    "import matplotlib.pyplot as plt\n",
    "\n",
    "# Sample DataFrame\n",
    "data = {'scores': [88, 76, 90, 84, 65, 79, 93, 80]}\n",
    "df = pd.DataFrame(data)\n",
    "\n",
    "# Creating a histogram\n",
    "df['scores'].hist()\n",
    "plt.title('Distribution of Scores')\n",
    "plt.xlabel('Scores')\n",
    "plt.ylabel('Frequency')\n",
    "plt.show()"
   ]
  },
  {
   "cell_type": "markdown",
   "id": "1b4f8ba1-d774-46a3-90bf-0eb4119c09da",
   "metadata": {},
   "source": [
    "### Boxplot\n",
    "\n",
    "Boxplots are useful for visualizing the distribution of data through their quartiles and detecting outliers. Here’s how to create boxplots for multiple columns:\n",
    "\n",
    "```python\n",
    "# Sample DataFrame\n",
    "data = {'math_scores': [88, 76, 90, 84, 65], \n",
    "        'eng_scores': [78, 82, 88, 91, 73]}\n",
    "df = pd.DataFrame(data)\n",
    "\n",
    "# Creating a boxplot\n",
    "df.boxplot(column = ['math_scores', 'eng_scores'])\n",
    "plt.title('Score Distribution')\n",
    "plt.ylabel('Scores')\n",
    "plt.show()\n",
    "```"
   ]
  },
  {
   "cell_type": "code",
   "execution_count": 98,
   "id": "54c19b6e-04a5-4372-b982-f136674c80b4",
   "metadata": {},
   "outputs": [
    {
     "data": {
      "image/png": "[encoded data removed]",
      "text/plain": [
       "<Figure size 640x480 with 1 Axes>"
      ]
     },
     "metadata": {},
     "output_type": "display_data"
    }
   ],
   "source": [
    "# Sample DataFrame\n",
    "data = {'math_scores': [88, 76, 90, 84, 65], \n",
    "        'eng_scores': [78, 82, 88, 91, 73]}\n",
    "df = pd.DataFrame(data)\n",
    "\n",
    "# Creating a boxplot\n",
    "df.boxplot(column = ['math_scores', 'eng_scores'])\n",
    "plt.title('Score Distribution')\n",
    "plt.ylabel('Scores')\n",
    "plt.show()"
   ]
  },
  {
   "cell_type": "markdown",
   "id": "b1bd99ba-3488-4fb3-b4e4-c0bcafe81d43",
   "metadata": {},
   "source": [
    "### Scatter Plot\n",
    "\n",
    "Scatter plots are ideal for examining the relationship between two numeric variables. Here’s how to create a scatter plot:\n",
    "\n",
    "```python\n",
    "# Sample DataFrame\n",
    "data = {'hours_studied': [10, 15, 8, 12, 6], 'test_score': [95, 80, 88, 90, 70]}\n",
    "df = pd.DataFrame(data)\n",
    "\n",
    "# Creating a scatter plot\n",
    "df.plot.scatter(x = 'hours_studied', y = 'test_score', c = 'DarkBlue')\n",
    "plt.title('Test Score vs Hours Studied')\n",
    "plt.xlabel('Hours Studied')\n",
    "plt.ylabel('Test Score')\n",
    "plt.show()\n",
    "```"
   ]
  },
  {
   "cell_type": "code",
   "execution_count": 99,
   "id": "3ca84d31-d971-4212-9edb-84b367d3151c",
   "metadata": {},
   "outputs": [
    {
     "data": {
      "image/png": "[encoded data removed]",
      "text/plain": [
       "<Figure size 640x480 with 1 Axes>"
      ]
     },
     "metadata": {},
     "output_type": "display_data"
    }
   ],
   "source": [
    "# Sample DataFrame\n",
    "data = {'hours_studied': [10, 15, 8, 12, 6], \n",
    "        'test_score': [95, 80, 88, 90, 70]}\n",
    "df = pd.DataFrame(data)\n",
    "\n",
    "# Creating a scatter plot\n",
    "df.plot.scatter(x = 'hours_studied', y = 'test_score', c = 'DarkBlue')\n",
    "plt.title('Test Score vs Hours Studied')\n",
    "plt.xlabel('Hours Studied')\n",
    "plt.ylabel('Test Score')\n",
    "plt.show()"
   ]
  },
  {
   "cell_type": "markdown",
   "id": "097ac4bc-7d3a-48c1-be66-3c60625d8c6b",
   "metadata": {},
   "source": [
    "### Line Plot\n",
    "\n",
    "Line plots are used to visualize data points connected by straight line segments. This is particularly useful in time series analysis:\n",
    "\n",
    "```python\n",
    "# Sample DataFrame\n",
    "data = {'year': [2010, 2011, 2012, 2013, 2014], \n",
    "        'sales': [200, 220, 250, 270, 300]}\n",
    "df = pd.DataFrame(data)\n",
    "\n",
    "# Creating a line plot\n",
    "df.plot.line(x = 'year', y = 'sales', color = 'red')\n",
    "plt.title('Yearly Sales')\n",
    "plt.xlabel('Year')\n",
    "plt.ylabel('Sales')\n",
    "plt.show()\n",
    "```"
   ]
  },
  {
   "cell_type": "code",
   "execution_count": 100,
   "id": "da0bca68-707a-4bdf-85ca-98a2f881ef10",
   "metadata": {},
   "outputs": [
    {
     "data": {
      "image/png": "[encoded data removed]",
      "text/plain": [
       "<Figure size 640x480 with 1 Axes>"
      ]
     },
     "metadata": {},
     "output_type": "display_data"
    }
   ],
   "source": [
    "# Sample DataFrame\n",
    "data = {'year': [2010, 2011, 2012, 2013, 2014], \n",
    "        'sales': [200, 220, 250, 270, 300]}\n",
    "df = pd.DataFrame(data)\n",
    "\n",
    "# Creating a line plot\n",
    "df.plot.line(x = 'year', y = 'sales', color = 'red')\n",
    "plt.title('Yearly Sales')\n",
    "plt.xlabel('Year')\n",
    "plt.ylabel('Sales')\n",
    "plt.show()"
   ]
  },
  {
   "cell_type": "markdown",
   "id": "e865ac03-5f9f-416f-9436-49f6db9bdb00",
   "metadata": {},
   "source": [
    "### Bar Chart\n",
    "\n",
    "Bar charts are used to compare different groups. Here’s an example of a bar chart visualizing the count of values in a column:\n",
    "\n",
    "```python\n",
    "# Sample DataFrame\n",
    "data = {'product': ['Apples', 'Oranges', 'Bananas', 'Apples', 'Oranges', 'Apples']}\n",
    "df = pd.DataFrame(data)\n",
    "\n",
    "# Creating a bar chart\n",
    "df['product'].value_counts().plot.bar(color = 'green')\n",
    "plt.title('Product Frequency')\n",
    "plt.xlabel('Product')\n",
    "plt.ylabel('Frequency')\n",
    "plt.show()\n",
    "```"
   ]
  },
  {
   "cell_type": "code",
   "execution_count": 101,
   "id": "0948f246-04c9-4073-8aa0-18adc22e36f8",
   "metadata": {},
   "outputs": [
    {
     "data": {
      "image/png": "[encoded data removed]",
      "text/plain": [
       "<Figure size 640x480 with 1 Axes>"
      ]
     },
     "metadata": {},
     "output_type": "display_data"
    }
   ],
   "source": [
    "# Sample DataFrame\n",
    "data = {'product': ['Apples', 'Oranges', 'Bananas', 'Apples', 'Oranges', 'Apples']}\n",
    "df = pd.DataFrame(data)\n",
    "\n",
    "# Creating a bar chart\n",
    "df['product'].value_counts().plot.bar(color='green')\n",
    "plt.title('Product Frequency')\n",
    "plt.xlabel('Product')\n",
    "plt.ylabel('Frequency')\n",
    "plt.show()"
   ]
  },
  {
   "cell_type": "markdown",
   "id": "fbcf0a44-109b-49f9-a7cb-8267e5507088",
   "metadata": {},
   "source": [
    "Each of these visualization techniques provides insights into different aspects of your data, making it easier to perform comprehensive data analysis and interpretation."
   ]
  },
  {
   "cell_type": "markdown",
   "id": "f9ca21df-86f0-4274-b0f5-2cbe3aed7de8",
   "metadata": {},
   "source": [
    "## Statistical Analysis\n",
    "\n",
    "Statistical analysis is a key component of data analysis, helping to understand trends, relationships, and distributions in data. Pandas offers a range of functions for performing statistical analyses, which can be incredibly insightful when exploring your data. This chapter will cover the basics, including correlation, covariance, and various ways of summarizing data distributions.\n",
    "\n",
    "### Correlation Matrix\n",
    "\n",
    "A correlation matrix displays the correlation coefficients between variables. Each cell in the table shows the correlation between two variables. Here’s how to generate a correlation matrix:\n",
    "\n",
    "```python\n",
    "import pandas as pd\n",
    "\n",
    "# Sample DataFrame\n",
    "data = {'age': [25, 30, 35, 40, 45],\n",
    "        'salary': [50000, 44000, 58000, 62000, 66000]}\n",
    "df = pd.DataFrame(data)\n",
    "\n",
    "# Creating a correlation matrix\n",
    "corr_matrix = df.corr()\n",
    "print(corr_matrix)\n",
    "```\n",
    "\n",
    "Result:\n",
    "\n",
    "```plaintext\n",
    "             age    salary\n",
    "age     1.000000  0.883883\n",
    "salary  0.883883  1.000000\n",
    "```"
   ]
  },
  {
   "cell_type": "code",
   "execution_count": 102,
   "id": "38b9ddab-8d28-465d-8c5d-779dd0570e0c",
   "metadata": {},
   "outputs": [
    {
     "name": "stdout",
     "output_type": "stream",
     "text": [
      "             age    salary\n",
      "age     1.000000  0.883883\n",
      "salary  0.883883  1.000000\n"
     ]
    }
   ],
   "source": [
    "import pandas as pd\n",
    "\n",
    "# Sample DataFrame\n",
    "data = {'age': [25, 30, 35, 40, 45],\n",
    "        'salary': [50000, 44000, 58000, 62000, 66000]}\n",
    "df = pd.DataFrame(data)\n",
    "\n",
    "# Creating a correlation matrix\n",
    "corr_matrix = df.corr()\n",
    "print(corr_matrix)"
   ]
  },
  {
   "cell_type": "markdown",
   "id": "83a6f354-0f82-4e0e-a938-4bb6a8a6a9ca",
   "metadata": {},
   "source": [
    "### Covariance Matrix\n",
    "\n",
    "The covariance matrix is similar to a correlation matrix but shows the covariance between variables. Here’s how to generate a covariance matrix:\n",
    "\n",
    "```python\n",
    "# Creating a covariance matrix\n",
    "cov_matrix = df.cov()\n",
    "print(cov_matrix)\n",
    "```\n",
    "\n",
    "Result:\n",
    "\n",
    "```plaintext\n",
    "           age       salary\n",
    "age       62.5       6250.0\n",
    "salary  6250.0   80000000.0\n",
    "```"
   ]
  },
  {
   "cell_type": "code",
   "execution_count": 103,
   "id": "a5d6db9b-ad6c-4067-905f-237840321cc1",
   "metadata": {},
   "outputs": [
    {
     "name": "stdout",
     "output_type": "stream",
     "text": [
      "            age      salary\n",
      "age        62.5     62500.0\n",
      "salary  62500.0  80000000.0\n"
     ]
    }
   ],
   "source": [
    "# Creating a covariance matrix\n",
    "cov_matrix = df.cov()\n",
    "print(cov_matrix)"
   ]
  },
  {
   "cell_type": "markdown",
   "id": "77350ba7-08dd-4620-ba42-59240359d92a",
   "metadata": {},
   "source": [
    "### Value Counts\n",
    "\n",
    "This function is used to count the number of unique entries in a column, which can be particularly useful for categorical data:\n",
    "\n",
    "```python\n",
    "# Sample DataFrame\n",
    "data = {'department': ['HR', 'Finance', 'IT', 'HR', 'Finance']}\n",
    "df = pd.DataFrame(data)\n",
    "\n",
    "# Using value counts\n",
    "value_counts = df['department'].value_counts()\n",
    "print(value_counts)\n",
    "```\n",
    "\n",
    "Result:\n",
    "\n",
    "```plaintext\n",
    "Finance    2\n",
    "HR         2\n",
    "IT         1\n",
    "```"
   ]
  },
  {
   "cell_type": "code",
   "execution_count": 104,
   "id": "ad66e4cc-12d5-42c4-b5a8-9e6e8db049ea",
   "metadata": {},
   "outputs": [
    {
     "name": "stdout",
     "output_type": "stream",
     "text": [
      "HR         2\n",
      "Finance    2\n",
      "IT         1\n",
      "Name: department, dtype: int64\n"
     ]
    }
   ],
   "source": [
    "# Sample DataFrame\n",
    "data = {'department': ['HR', 'Finance', 'IT', 'HR', 'Finance']}\n",
    "df = pd.DataFrame(data)\n",
    "\n",
    "# Using value counts\n",
    "value_counts = df['department'].value_counts()\n",
    "print(value_counts)"
   ]
  },
  {
   "cell_type": "markdown",
   "id": "dac8a5ef-c19a-4910-88fa-7cd19d915c9b",
   "metadata": {},
   "source": [
    "### Unique Values in Column\n",
    "\n",
    "To find unique values in a column, use the `unique` function. This can help identify the diversity of entries in a column:\n",
    "\n",
    "```python\n",
    "# Getting unique values from the column\n",
    "unique_values = df['department'].unique()\n",
    "print(unique_values)\n",
    "```\n",
    "\n",
    "Result:\n",
    "\n",
    "```plaintext\n",
    "['HR' 'Finance' 'IT']\n",
    "```"
   ]
  },
  {
   "cell_type": "code",
   "execution_count": 105,
   "id": "66f63ca2-aef5-4a61-8091-53bdecbc97d3",
   "metadata": {},
   "outputs": [
    {
     "name": "stdout",
     "output_type": "stream",
     "text": [
      "['HR' 'Finance' 'IT']\n"
     ]
    }
   ],
   "source": [
    "# Getting unique values from the column\n",
    "unique_values = df['department'].unique()\n",
    "print(unique_values)"
   ]
  },
  {
   "cell_type": "markdown",
   "id": "70040076-7596-4f85-b3df-9150fd371a4b",
   "metadata": {},
   "source": [
    "### Number of Unique Values\n",
    "\n",
    "If you need to know how many unique values are in a column, use `nunique`:\n",
    "\n",
    "```python\n",
    "# Counting unique values\n",
    "num_unique_values = df['department'].nunique()\n",
    "print(num_unique_values)\n",
    "```\n",
    "\n",
    "Result:\n",
    "\n",
    "```plaintext\n",
    "3\n",
    "```"
   ]
  },
  {
   "cell_type": "code",
   "execution_count": 106,
   "id": "1ed85945-40e2-4c6e-9c82-c373bdbb3fca",
   "metadata": {},
   "outputs": [
    {
     "name": "stdout",
     "output_type": "stream",
     "text": [
      "3\n"
     ]
    }
   ],
   "source": [
    "# Counting unique values\n",
    "num_unique_values = df['department'].nunique()\n",
    "print(num_unique_values)"
   ]
  },
  {
   "cell_type": "markdown",
   "id": "64b8f5f8-0960-431e-a8d6-d602b63c498c",
   "metadata": {},
   "source": [
    "These tools provide a fundamental insight into the statistical characteristics of your data, essential for both preliminary data exploration and advanced analyses."
   ]
  },
  {
   "cell_type": "markdown",
   "id": "f9c474a0-0062-47dd-890a-907ed6877141",
   "metadata": {},
   "source": [
    "## Indexing and Selection\n",
    "\n",
    "Effective data manipulation in Pandas often involves precise indexing and selection to isolate specific data segments. This chapter demonstrates several methods to select columns and rows in a DataFrame, enabling refined data analysis.\n",
    "\n",
    "### Select Column\n",
    "\n",
    "To select a single column from a DataFrame and return it as a Series:\n",
    "\n",
    "```python\n",
    "import pandas as pd\n",
    "\n",
    "# Sample DataFrame\n",
    "data = {'name': ['Alice', 'Bob', 'Charlie'],\n",
    "        'age': [25, 30, 35]}\n",
    "df = pd.DataFrame(data)\n",
    "\n",
    "# Selecting a single column\n",
    "selected_column = df['name']\n",
    "print(selected_column)\n",
    "```\n",
    "\n",
    "Result:\n",
    "\n",
    "```plaintext\n",
    "0     Alice\n",
    "1       Bob\n",
    "2    Charlie\n",
    "Name: name, dtype: object\n",
    "```"
   ]
  },
  {
   "cell_type": "code",
   "execution_count": 107,
   "id": "59c0d20b-f96a-4309-92f3-4817f80a261c",
   "metadata": {},
   "outputs": [
    {
     "name": "stdout",
     "output_type": "stream",
     "text": [
      "0      Alice\n",
      "1        Bob\n",
      "2    Charlie\n",
      "Name: name, dtype: object\n"
     ]
    }
   ],
   "source": [
    "import pandas as pd\n",
    "\n",
    "# Sample DataFrame\n",
    "data = {'name': ['Alice', 'Bob', 'Charlie'],\n",
    "        'age': [25, 30, 35]}\n",
    "df = pd.DataFrame(data)\n",
    "\n",
    "# Selecting a single column\n",
    "selected_column = df['name']\n",
    "print(selected_column)"
   ]
  },
  {
   "cell_type": "markdown",
   "id": "b66ea07d-a7c6-43f6-a7ea-8c718c7f1b64",
   "metadata": {},
   "source": [
    "### Select Multiple Columns\n",
    "\n",
    "To select multiple columns, use a list of column names. The result is a new DataFrame:\n",
    "\n",
    "```python\n",
    "# Selecting multiple columns\n",
    "selected_columns = df[['name', 'age']]\n",
    "print(selected_columns)\n",
    "```\n",
    "\n",
    "Result:\n",
    "\n",
    "```plaintext\n",
    "      name  age\n",
    "0    Alice   25\n",
    "1      Bob   30\n",
    "2  Charlie   35\n",
    "```"
   ]
  },
  {
   "cell_type": "code",
   "execution_count": 108,
   "id": "d5887e51-0886-4993-a3dc-929e368b68d7",
   "metadata": {},
   "outputs": [
    {
     "name": "stdout",
     "output_type": "stream",
     "text": [
      "      name  age\n",
      "0    Alice   25\n",
      "1      Bob   30\n",
      "2  Charlie   35\n"
     ]
    }
   ],
   "source": [
    "# Selecting multiple columns\n",
    "selected_columns = df[['name', 'age']]\n",
    "print(selected_columns)"
   ]
  },
  {
   "cell_type": "markdown",
   "id": "d1a07df2-7946-4692-aea3-cd310aa3dae0",
   "metadata": {},
   "source": [
    "### Select Rows by Position\n",
    "\n",
    "You can select rows based on their position using `iloc`, which is primarily integer position based:\n",
    "\n",
    "```python\n",
    "# Selecting rows by position\n",
    "selected_rows = df.iloc[0:2]\n",
    "print(selected_rows)\n",
    "```\n",
    "\n",
    "Result:\n",
    "\n",
    "```plaintext\n",
    "    name  age\n",
    "0  Alice   25\n",
    "1    Bob   30\n",
    "```"
   ]
  },
  {
   "cell_type": "code",
   "execution_count": 109,
   "id": "513a59e9-3c23-42f7-932b-0e46175dbdcc",
   "metadata": {},
   "outputs": [
    {
     "name": "stdout",
     "output_type": "stream",
     "text": [
      "    name  age\n",
      "0  Alice   25\n",
      "1    Bob   30\n"
     ]
    }
   ],
   "source": [
    "# Selecting rows by position\n",
    "selected_rows = df.iloc[0:2]\n",
    "print(selected_rows)"
   ]
  },
  {
   "cell_type": "markdown",
   "id": "38bb3925-d31e-4675-a863-b8d999b904d1",
   "metadata": {},
   "source": [
    "### Select Rows by Label\n",
    "\n",
    "To select rows by label index, use `loc`, which uses labels in the index:\n",
    "\n",
    "```python\n",
    "# Selecting rows by label\n",
    "selected_rows_by_label = df.loc[0:1]\n",
    "print(selected_rows_by_label)\n",
    "```\n",
    "\n",
    "Result:\n",
    "\n",
    "```plaintext\n",
    "    name  age\n",
    "0  Alice   25\n",
    "1    Bob   30\n",
    "```"
   ]
  },
  {
   "cell_type": "code",
   "execution_count": 110,
   "id": "689b6340-9ba9-489c-a32f-2b4974ed6b94",
   "metadata": {},
   "outputs": [
    {
     "name": "stdout",
     "output_type": "stream",
     "text": [
      "    name  age\n",
      "0  Alice   25\n",
      "1    Bob   30\n"
     ]
    }
   ],
   "source": [
    "# Selecting rows by label\n",
    "selected_rows_by_label = df.loc[0:1]\n",
    "print(selected_rows_by_label)"
   ]
  },
  {
   "cell_type": "markdown",
   "id": "321e0306-6893-47c2-99c2-dde9420facda",
   "metadata": {},
   "source": [
    "### Conditional Selection\n",
    "\n",
    "For conditional selection, use a condition within brackets to filter data based on column values:\n",
    "\n",
    "```python\n",
    "# Conditional selection\n",
    "condition_selected = df[df['age'] > 30]\n",
    "print(condition_selected)\n",
    "```\n",
    "\n",
    "Result:\n",
    "\n",
    "```plaintext\n",
    "      name  age\n",
    "2  Charlie   35\n",
    "```"
   ]
  },
  {
   "cell_type": "code",
   "execution_count": 111,
   "id": "6a8d06d0-9b94-472a-86a2-cbed46e697a5",
   "metadata": {},
   "outputs": [
    {
     "name": "stdout",
     "output_type": "stream",
     "text": [
      "      name  age\n",
      "2  Charlie   35\n"
     ]
    }
   ],
   "source": [
    "# Conditional selection\n",
    "condition_selected = df[df['age'] > 30]\n",
    "print(condition_selected)"
   ]
  },
  {
   "cell_type": "markdown",
   "id": "1a0e3a41-6f2f-43c0-bfb1-344da9f42be7",
   "metadata": {},
   "source": [
    "This selection and indexing functionality in Pandas allows for flexible and efficient data manipulations, forming the basis of many data operations you'll perform."
   ]
  },
  {
   "cell_type": "markdown",
   "id": "d16fcaf4-4381-4ddc-9295-468df2047465",
   "metadata": {},
   "source": [
    "## Data Formatting and Conversion\n",
    "\n",
    "Data often needs to be formatted or converted to different types to meet the requirements of various analysis tasks. Pandas provides versatile capabilities for data formatting and type conversion, allowing for effective manipulation and preparation of data. This chapter covers some essential operations for data formatting and conversion.\n",
    "\n",
    "### Convert Data Types\n",
    "\n",
    "Changing the data type of a column in a DataFrame is often necessary during data cleaning and preparation. Use `astype` to convert the data type of a column:\n",
    "\n",
    "```python\n",
    "import pandas as pd\n",
    "\n",
    "# Sample DataFrame\n",
    "data = {'age': ['25', '30', '35']}\n",
    "df = pd.DataFrame(data)\n",
    "\n",
    "# Converting the data type of the 'age' column to integer\n",
    "df['age'] = df['age'].astype(int)\n",
    "print(df['age'].dtypes)\n",
    "```\n",
    "\n",
    "Result:\n",
    "\n",
    "```plaintext\n",
    "int64\n",
    "```"
   ]
  },
  {
   "cell_type": "code",
   "execution_count": 112,
   "id": "ecaf96dd-1d1d-4bb9-9293-bb99f382f86a",
   "metadata": {},
   "outputs": [
    {
     "name": "stdout",
     "output_type": "stream",
     "text": [
      "int64\n"
     ]
    }
   ],
   "source": [
    "import pandas as pd\n",
    "\n",
    "# Sample DataFrame\n",
    "data = {'age': ['25', '30', '35']}\n",
    "df = pd.DataFrame(data)\n",
    "\n",
    "# Converting the data type of the 'age' column to integer\n",
    "df['age'] = df['age'].astype(int)\n",
    "print(df['age'].dtypes)"
   ]
  },
  {
   "cell_type": "markdown",
   "id": "252eb84f-0900-4ff0-ae5a-03b797b7d036",
   "metadata": {},
   "source": [
    "### String Operations\n",
    "\n",
    "Pandas can perform vectorized string operations on Series using `.str`. This is useful for cleaning and transforming text data:\n",
    "\n",
    "```python\n",
    "# Sample DataFrame\n",
    "data = {'name': ['Alice', 'Bob', 'Charlie']}\n",
    "df = pd.DataFrame(data)\n",
    "\n",
    "# Converting all names to lowercase\n",
    "df['name'] = df['name'].str.lower()\n",
    "print(df)\n",
    "```\n",
    "\n",
    "Result:\n",
    "\n",
    "```plaintext\n",
    "      name\n",
    "0    alice\n",
    "1      bob\n",
    "2  charlie\n",
    "```"
   ]
  },
  {
   "cell_type": "code",
   "execution_count": 113,
   "id": "2f4931ff-5f7a-4a8c-87a5-0a49af0de03d",
   "metadata": {},
   "outputs": [
    {
     "name": "stdout",
     "output_type": "stream",
     "text": [
      "      name\n",
      "0    alice\n",
      "1      bob\n",
      "2  charlie\n"
     ]
    }
   ],
   "source": [
    "# Sample DataFrame\n",
    "data = {'name': ['Alice', 'Bob', 'Charlie']}\n",
    "df = pd.DataFrame(data)\n",
    "\n",
    "# Converting all names to lowercase\n",
    "df['name'] = df['name'].str.lower()\n",
    "print(df)"
   ]
  },
  {
   "cell_type": "markdown",
   "id": "8a4650e7-ed6c-43fb-b5c7-89dd38181da5",
   "metadata": {},
   "source": [
    "### Datetime Conversion\n",
    "\n",
    "Converting strings or other datetime formats into a standardized `datetime64` type is essential for time series analysis. Use `pd.to_datetime` to convert a column:\n",
    "\n",
    "```python\n",
    "# Sample DataFrame\n",
    "data = {'date': ['2023-01-01', '2023-01-02', '2023-01-03']}\n",
    "df = pd.DataFrame(data)\n",
    "\n",
    "# Converting 'date' column to datetime\n",
    "df['date'] = pd.to_datetime(df['date'])\n",
    "print(df['date'].dtypes)\n",
    "```\n",
    "\n",
    "Result:\n",
    "\n",
    "```plaintext\n",
    "datetime64[ns]\n",
    "```"
   ]
  },
  {
   "cell_type": "code",
   "execution_count": 114,
   "id": "67c2dab2-e5b1-4d28-9bc5-5fdc6dd27150",
   "metadata": {},
   "outputs": [
    {
     "name": "stdout",
     "output_type": "stream",
     "text": [
      "datetime64[ns]\n"
     ]
    }
   ],
   "source": [
    "# Sample DataFrame\n",
    "data = {'date': ['2023-01-01', '2023-01-02', '2023-01-03']}\n",
    "df = pd.DataFrame(data)\n",
    "\n",
    "# Converting 'date' column to datetime\n",
    "df['date'] = pd.to_datetime(df['date'])\n",
    "print(df['date'].dtypes)"
   ]
  },
  {
   "cell_type": "markdown",
   "id": "af20edc2-5631-43e8-85e1-cca84548f828",
   "metadata": {},
   "source": [
    "### Setting Index\n",
    "\n",
    "Setting a specific column as the index of a DataFrame can facilitate faster searches, better alignment, and easier access to rows:\n",
    "\n",
    "```python\n",
    "# Sample DataFrame\n",
    "data = {'name': ['Alice', 'Bob', 'Charlie'],\n",
    "        'age': [25, 30, 35]}\n",
    "df = pd.DataFrame(data)\n",
    "\n",
    "# Setting 'name' as the index\n",
    "df.set_index('name', inplace=True)\n",
    "print(df)\n",
    "```\n",
    "\n",
    "Result:\n",
    "\n",
    "```plaintext\n",
    "          age\n",
    "name\n",
    "Alice      25\n",
    "Bob        30\n",
    "Charlie    35\n",
    "```"
   ]
  },
  {
   "cell_type": "code",
   "execution_count": 115,
   "id": "8707545b-68ee-44d8-94f1-cff78bea7fa4",
   "metadata": {},
   "outputs": [
    {
     "name": "stdout",
     "output_type": "stream",
     "text": [
      "         age\n",
      "name        \n",
      "Alice     25\n",
      "Bob       30\n",
      "Charlie   35\n"
     ]
    }
   ],
   "source": [
    "# Sample DataFrame\n",
    "data = {'name': ['Alice', 'Bob', 'Charlie'],\n",
    "        'age': [25, 30, 35]}\n",
    "df = pd.DataFrame(data)\n",
    "\n",
    "# Setting 'name' as the index\n",
    "df.set_index('name', inplace=True)\n",
    "print(df)"
   ]
  },
  {
   "cell_type": "markdown",
   "id": "59ed0ec2-dc8c-499d-b17f-6f72736a2ba7",
   "metadata": {},
   "source": [
    "These formatting and conversion techniques are crucial for preparing your dataset for detailed analysis and ensuring compatibility across different analysis and visualization tools."
   ]
  },
  {
   "cell_type": "markdown",
   "id": "e84a5c22-d1e6-4304-945f-2a58b023db12",
   "metadata": {},
   "source": [
    "## Advanced Data Transformation\n",
    "\n",
    "Advanced data transformation involves sophisticated techniques that help in reshaping, restructuring, and summarizing complex datasets. This chapter delves into some of the more advanced functions available in Pandas that enable detailed manipulation and transformation of data.\n",
    "\n",
    "### Lambda Functions\n",
    "\n",
    "Lambda functions provide a quick and efficient way of applying an operation across a DataFrame. Here’s how you can use `apply` with a lambda function to increment every element in the DataFrame:\n",
    "\n",
    "```python\n",
    "import pandas as pd\n",
    "\n",
    "# Sample DataFrame\n",
    "data = {'A': [1, 2, 3],\n",
    "        'B': [4, 5, 6]}\n",
    "df = pd.DataFrame(data)\n",
    "\n",
    "# Applying a lambda function to add 1 to each element\n",
    "df = df.apply(lambda x: x + 1)\n",
    "print(df)\n",
    "```\n",
    "\n",
    "Result:\n",
    "\n",
    "```plaintext\n",
    "   A  B\n",
    "0  2  5\n",
    "1  3  6\n",
    "2  4  7\n",
    "```"
   ]
  },
  {
   "cell_type": "code",
   "execution_count": 116,
   "id": "8aa895b9-a6a6-4a85-90c0-4fda0e5943d1",
   "metadata": {},
   "outputs": [
    {
     "name": "stdout",
     "output_type": "stream",
     "text": [
      "   A  B\n",
      "0  2  5\n",
      "1  3  6\n",
      "2  4  7\n"
     ]
    }
   ],
   "source": [
    "import pandas as pd\n",
    "\n",
    "# Sample DataFrame\n",
    "data = {'A': [1, 2, 3],\n",
    "        'B': [4, 5, 6]}\n",
    "df = pd.DataFrame(data)\n",
    "\n",
    "# Applying a lambda function to add 1 to each element\n",
    "df = df.apply(lambda x: x + 1)\n",
    "print(df)"
   ]
  },
  {
   "cell_type": "markdown",
   "id": "c8f5e919-c3d8-42b6-b1d5-deb7f7a83ed6",
   "metadata": {},
   "source": [
    "### Pivot Longer/Wider Format\n",
    "\n",
    "The `melt` function is used to transform data from wide format to long format, which can be more suitable for analysis:\n",
    "\n",
    "```python\n",
    "# Example of melting a DataFrame\n",
    "data = {'Name': ['Alice', 'Bob'],\n",
    "        'Age': [25, 30],\n",
    "        'Salary': [50000, 60000]}\n",
    "df = pd.DataFrame(data)\n",
    "\n",
    "# Pivoting from wider to longer format\n",
    "df_long = df.melt(id_vars = ['Name'])\n",
    "print(df_long)\n",
    "```\n",
    "\n",
    "Result:\n",
    "\n",
    "```plaintext\n",
    "    Name variable  value\n",
    "0  Alice      Age     25\n",
    "1    Bob      Age     30\n",
    "2  Alice   Salary  50000\n",
    "3    Bob   Salary  60000\n",
    "```"
   ]
  },
  {
   "cell_type": "code",
   "execution_count": 117,
   "id": "1fb3cac0-ce02-472b-b0b5-ed1c10969a25",
   "metadata": {},
   "outputs": [
    {
     "name": "stdout",
     "output_type": "stream",
     "text": [
      "    Name variable  value\n",
      "0  Alice      Age     25\n",
      "1    Bob      Age     30\n",
      "2  Alice   Salary  50000\n",
      "3    Bob   Salary  60000\n"
     ]
    }
   ],
   "source": [
    "# Example of melting a DataFrame\n",
    "data = {'Name': ['Alice', 'Bob'],\n",
    "        'Age': [25, 30],\n",
    "        'Salary': [50000, 60000]}\n",
    "df = pd.DataFrame(data)\n",
    "\n",
    "# Pivoting from wider to longer format\n",
    "df_long = df.melt(id_vars = ['Name'])\n",
    "print(df_long)"
   ]
  },
  {
   "cell_type": "markdown",
   "id": "72d5ca03-f439-4168-8acd-430ab879b378",
   "metadata": {},
   "source": [
    "### Stack/Unstack\n",
    "\n",
    "Stacking and unstacking are powerful for reshaping a DataFrame by pivoting the columns or the index:\n",
    "\n",
    "```python\n",
    "# Stacking and unstacking example\n",
    "df = pd.DataFrame(data)\n",
    "\n",
    "# Stacking\n",
    "stacked = df.stack()\n",
    "print(stacked)\n",
    "\n",
    "# Unstacking\n",
    "unstacked = stacked.unstack()\n",
    "print(unstacked)\n",
    "```\n",
    "\n",
    "Result for stack:\n",
    "\n",
    "```plaintext\n",
    "0  Name      Alice\n",
    "   Age          25\n",
    "   Salary    50000\n",
    "1  Name        Bob\n",
    "   Age          30\n",
    "   Salary    60000\n",
    "dtype: object\n",
    "```\n",
    "\n",
    "Result for unstack:\n",
    "\n",
    "```plaintext\n",
    "    Name Age Salary\n",
    "0  Alice  25  50000\n",
    "1    Bob  30  60000\n",
    "```"
   ]
  },
  {
   "cell_type": "code",
   "execution_count": 118,
   "id": "56a700de-f043-4b13-8cf3-22a1f4bf0b32",
   "metadata": {},
   "outputs": [
    {
     "name": "stdout",
     "output_type": "stream",
     "text": [
      "0  Name      Alice\n",
      "   Age          25\n",
      "   Salary    50000\n",
      "1  Name        Bob\n",
      "   Age          30\n",
      "   Salary    60000\n",
      "dtype: object\n",
      "    Name Age Salary\n",
      "0  Alice  25  50000\n",
      "1    Bob  30  60000\n"
     ]
    }
   ],
   "source": [
    "# Stacking and unstacking example\n",
    "df = pd.DataFrame(data)\n",
    "\n",
    "# Stacking\n",
    "stacked = df.stack()\n",
    "print(stacked)\n",
    "\n",
    "# Unstacking\n",
    "unstacked = stacked.unstack()\n",
    "print(unstacked)"
   ]
  },
  {
   "cell_type": "markdown",
   "id": "d1d066c7-285e-48b4-9183-c2480438bd5f",
   "metadata": {},
   "source": [
    "### Cross Tabulations\n",
    "\n",
    "Cross tabulations are used to compute a simple cross-tabulation of two (or more) factors. This can be very useful in statistics and probability analysis:\n",
    "\n",
    "```python\n",
    "# Cross-tabulation example\n",
    "data = {'Gender': ['Female', 'Male', 'Female', 'Male'],\n",
    "        'Handedness': ['Right', 'Left', 'Right', 'Right']}\n",
    "df = pd.DataFrame(data)\n",
    "\n",
    "# Creating a cross tabulation\n",
    "crosstab = pd.crosstab(df['Gender'], df['Handedness'])\n",
    "print(crosstab)\n",
    "```\n",
    "\n",
    "Result:\n",
    "\n",
    "```plaintext\n",
    "Handedness  Left  Right\n",
    "Gender\n",
    "Female        0      2\n",
    "Male          1      1\n",
    "```"
   ]
  },
  {
   "cell_type": "code",
   "execution_count": 119,
   "id": "7cf8af70-f7a7-4000-a95a-cb3a793d575d",
   "metadata": {},
   "outputs": [
    {
     "name": "stdout",
     "output_type": "stream",
     "text": [
      "Handedness  Left  Right\n",
      "Gender                 \n",
      "Female         0      2\n",
      "Male           1      1\n"
     ]
    }
   ],
   "source": [
    "# Cross-tabulation example\n",
    "data = {'Gender': ['Female', 'Male', 'Female', 'Male'],\n",
    "        'Handedness': ['Right', 'Left', 'Right', 'Right']}\n",
    "df = pd.DataFrame(data)\n",
    "\n",
    "# Creating a cross tabulation\n",
    "crosstab = pd.crosstab(df['Gender'], df['Handedness'])\n",
    "print(crosstab)"
   ]
  },
  {
   "cell_type": "markdown",
   "id": "0fff637a-189e-4f02-a57d-c04d9ba1c099",
   "metadata": {},
   "source": [
    "These advanced transformations enable sophisticated handling of data structures, enhancing the ability to analyze complex datasets effectively."
   ]
  },
  {
   "cell_type": "markdown",
   "id": "3289e9c2-478a-4910-a3c4-2270d783a68e",
   "metadata": {},
   "source": [
    "## Handling Time Series Data\n",
    "\n",
    "Time series data analysis is a crucial aspect of many fields such as finance, economics, and meteorology. Pandas provides robust tools for working with time series data, allowing for detailed analysis of time-stamped information. This chapter will explore how to manipulate time series data effectively using Pandas.\n",
    "\n",
    "### Set Datetime Index\n",
    "\n",
    "Setting a datetime index is foundational in time series analysis as it facilitates easier slicing, aggregation, and resampling of data:\n",
    "\n",
    "```python\n",
    "import pandas as pd\n",
    "\n",
    "# Sample DataFrame with date information\n",
    "data = {'date': ['2023-01-01', '2023-01-02', '2023-01-03', '2023-01-04'],\n",
    "        'value': [100, 110, 120, 130]}\n",
    "df = pd.DataFrame(data)\n",
    "\n",
    "# Converting 'date' column to datetime and setting it as index\n",
    "df['date'] = pd.to_datetime(df['date'])\n",
    "df = df.set_index('date')\n",
    "print(df)\n",
    "```\n",
    "\n",
    "Result:\n",
    "\n",
    "```plaintext\n",
    "            value\n",
    "date\n",
    "2023-01-01    100\n",
    "2023-01-02    110\n",
    "2023-01-03    120\n",
    "2023-01-04    130\n",
    "```"
   ]
  },
  {
   "cell_type": "code",
   "execution_count": 120,
   "id": "de68398c-ed47-402c-abbd-3d574af13de5",
   "metadata": {},
   "outputs": [
    {
     "name": "stdout",
     "output_type": "stream",
     "text": [
      "            value\n",
      "date             \n",
      "2023-01-01    100\n",
      "2023-01-02    110\n",
      "2023-01-03    120\n",
      "2023-01-04    130\n"
     ]
    }
   ],
   "source": [
    "import pandas as pd\n",
    "\n",
    "# Sample DataFrame with date information\n",
    "data = {'date': ['2023-01-01', '2023-01-02', '2023-01-03', '2023-01-04'],\n",
    "        'value': [100, 110, 120, 130]}\n",
    "df = pd.DataFrame(data)\n",
    "\n",
    "# Converting 'date' column to datetime and setting it as index\n",
    "df['date'] = pd.to_datetime(df['date'])\n",
    "df = df.set_index('date')\n",
    "print(df)"
   ]
  },
  {
   "cell_type": "markdown",
   "id": "50d8e2c0-157e-4118-9daf-5c5a73a1b775",
   "metadata": {},
   "source": [
    "### Resampling Data\n",
    "\n",
    "Resampling is a powerful method for time series data aggregation or downsampling, which changes the frequency of your data:\n",
    "\n",
    "```python\n",
    "# Resampling the data monthly and calculating the mean\n",
    "monthly_mean = df.resample('M').mean()\n",
    "print(monthly_mean)\n",
    "```\n",
    "\n",
    "Result:\n",
    "\n",
    "```plaintext\n",
    "            value\n",
    "date\n",
    "2023-01-31  115.0\n",
    "```"
   ]
  },
  {
   "cell_type": "code",
   "execution_count": 121,
   "id": "1e78c639-7f70-4144-87f0-2d4fa0bf73d7",
   "metadata": {},
   "outputs": [
    {
     "name": "stdout",
     "output_type": "stream",
     "text": [
      "            value\n",
      "date             \n",
      "2023-01-31  115.0\n"
     ]
    }
   ],
   "source": [
    "# Resampling the data monthly and calculating the mean\n",
    "monthly_mean = df.resample('M').mean()\n",
    "print(monthly_mean)"
   ]
  },
  {
   "cell_type": "markdown",
   "id": "7d35c19e-29b0-42bd-b4d6-8837706ab779",
   "metadata": {},
   "source": [
    "### Rolling Window Operations\n",
    "\n",
    "Rolling window operations are useful for smoothing or calculating moving averages, which can help in identifying trends in time series data:\n",
    "\n",
    "```python\n",
    "# Adding more data points for a better rolling example\n",
    "additional_data = {'date': pd.date_range('2023-01-05', periods = 5, freq = 'D'),\n",
    "                   'value': [140, 150, 160, 170, 180]}\n",
    "additional_df = pd.DataFrame(additional_data)\n",
    "df = pd.concat([df, additional_df.set_index('date')])\n",
    "\n",
    "# Calculating rolling mean with a window of 5 days\n",
    "rolling_mean = df.rolling(window = 5).mean()\n",
    "print(rolling_mean)\n",
    "```\n",
    "\n",
    "Result:\n",
    "\n",
    "```plaintext\n",
    "              value\n",
    "date\n",
    "2023-01-01      NaN\n",
    "2023-01-02      NaN\n",
    "2023-01-03      NaN\n",
    "2023-01-04      NaN\n",
    "2023-01-05    120.0\n",
    "2023-01-06    130.0\n",
    "2023-01-07    140.0\n",
    "2023-01-08    150.0\n",
    "2023-01-09    160.0\n",
    "```"
   ]
  },
  {
   "cell_type": "code",
   "execution_count": 122,
   "id": "e78bcff6-0dbc-4195-93ae-74903eaa8d83",
   "metadata": {},
   "outputs": [
    {
     "name": "stdout",
     "output_type": "stream",
     "text": [
      "            value\n",
      "date             \n",
      "2023-01-01    NaN\n",
      "2023-01-02    NaN\n",
      "2023-01-03    NaN\n",
      "2023-01-04    NaN\n",
      "2023-01-05  120.0\n",
      "2023-01-06  130.0\n",
      "2023-01-07  140.0\n",
      "2023-01-08  150.0\n",
      "2023-01-09  160.0\n"
     ]
    }
   ],
   "source": [
    "# Adding more data points for a better rolling example\n",
    "additional_data = {'date': pd.date_range('2023-01-05', periods = 5, freq = 'D'),\n",
    "                   'value': [140, 150, 160, 170, 180]}\n",
    "additional_df = pd.DataFrame(additional_data)\n",
    "df = pd.concat([df, additional_df.set_index('date')])\n",
    "\n",
    "# Calculating rolling mean with a window of 5 days\n",
    "rolling_mean = df.rolling(window = 5).mean()\n",
    "print(rolling_mean)"
   ]
  },
  {
   "cell_type": "markdown",
   "id": "c315fe6b-ba26-4fb7-9962-a1c11242c969",
   "metadata": {},
   "source": [
    "These techniques are essential for analyzing time series data efficiently, providing the tools needed to handle trends, seasonality, and other temporal structures in data."
   ]
  },
  {
   "cell_type": "markdown",
   "id": "232b5b5d-a4c2-47fc-b649-29057a1684ac",
   "metadata": {},
   "source": [
    "\n",
    "## File Export\n",
    "\n",
    "Once data analysis is complete, it is often necessary to export data into various formats for reporting, further analysis, or sharing. Pandas provides versatile tools to export data to different file formats, including CSV, Excel, and SQL databases. This chapter will cover how to export DataFrames to these common formats.\n",
    "\n",
    "### Write to CSV\n",
    "\n",
    "Exporting a DataFrame to a CSV file is straightforward and one of the most common methods for data sharing:\n",
    "\n",
    "```python\n",
    "import pandas as pd\n",
    "\n",
    "# Sample DataFrame\n",
    "data = {'name': ['Alice', 'Bob', 'Charlie'],\n",
    "        'age': [25, 30, 35]}\n",
    "df = pd.DataFrame(data)\n",
    "\n",
    "# Writing the DataFrame to a CSV file\n",
    "df.to_csv('filename.csv', index = False)  # index=False to avoid writing row indices\n",
    "```\n",
    "\n",
    "This function will create a CSV file named `filename.csv` in the current directory without the index column.\n",
    "\n",
    "### Write to Excel\n",
    "\n",
    "Exporting data to an Excel file can be done using the `to_excel` method, which allows for the storage of data along with formatting that can be useful for reports:\n",
    "\n",
    "```python\n",
    "# Writing the DataFrame to an Excel file\n",
    "df.to_excel('filename.xlsx', index = False)  # index=False to avoid writing row indices\n",
    "```\n",
    "\n",
    "This will create an Excel file `filename.xlsx` in the current directory.\n",
    "\n",
    "### Write to SQL Database\n",
    "\n",
    "Pandas can also export a DataFrame directly to a SQL database, which is useful for integrating analysis results into applications or storing data in a centralized database:\n",
    "\n",
    "```python\n",
    "import sqlalchemy\n",
    "\n",
    "# Creating a SQL connection engine\n",
    "engine = sqlalchemy.create_engine('sqlite:///example.db')  # Example using SQLite\n",
    "\n",
    "# Writing the DataFrame to a SQL database\n",
    "df.to_sql('table_name',\n",
    "          con = engine,\n",
    "          index = False,\n",
    "          if_exists = 'replace')\n",
    "```\n",
    "\n",
    "The `to_sql` function will create a new table named `table_name` in the specified SQL database and write the DataFrame to this table. The `if_exists='replace'` parameter will replace the table if it already exists; use `if_exists='append'` to add data to an existing table instead.\n",
    "\n",
    "These export functionalities enhance the versatility of Pandas, allowing for seamless transitions between different stages of data processing and sharing.\n"
   ]
  },
  {
   "cell_type": "markdown",
   "id": "b7adafcb-097d-4e06-b998-5a18f5272456",
   "metadata": {},
   "source": [
    " \n",
    "## Advanced Data Queries\n",
    "\n",
    "Performing advanced queries on a DataFrame allows for precise data filtering and extraction, which is essential for detailed analysis. This chapter explores the use of the `query` function and the `isin` method for sophisticated data querying in Pandas.\n",
    "\n",
    "### Query Function\n",
    "\n",
    "The `query` function allows you to filter rows based on a query expression. It's a powerful way to select data dynamically:\n",
    "\n",
    "```python\n",
    "import pandas as pd\n",
    "\n",
    "# Sample DataFrame\n",
    "data = {'name': ['Alice', 'Bob', 'Charlie', 'David', 'Eve'],\n",
    "        'age': [25, 30, 35, 40, 45]}\n",
    "df = pd.DataFrame(data)\n",
    "\n",
    "# Using query to filter data\n",
    "filtered_df = df.query('age > 30')\n",
    "print(filtered_df)\n",
    "```\n",
    "\n",
    "Result:\n",
    "\n",
    "```plaintext\n",
    "      name  age\n",
    "2  Charlie   35\n",
    "3    David   40\n",
    "4      Eve   45\n",
    "```\n",
    "\n",
    "This query returns all rows where the `age` is greater than 30."
   ]
  },
  {
   "cell_type": "code",
   "execution_count": 123,
   "id": "8fad975f-25a4-454f-b867-3351a6f0be01",
   "metadata": {},
   "outputs": [
    {
     "name": "stdout",
     "output_type": "stream",
     "text": [
      "      name  age\n",
      "2  Charlie   35\n",
      "3    David   40\n",
      "4      Eve   45\n"
     ]
    }
   ],
   "source": [
    "import pandas as pd\n",
    "\n",
    "# Sample DataFrame\n",
    "data = {'name': ['Alice', 'Bob', 'Charlie', 'David', 'Eve'],\n",
    "        'age': [25, 30, 35, 40, 45]}\n",
    "df = pd.DataFrame(data)\n",
    "\n",
    "# Using query to filter data\n",
    "filtered_df = df.query('age > 30')\n",
    "print(filtered_df)"
   ]
  },
  {
   "cell_type": "markdown",
   "id": "b42561b4-b87c-42fd-9448-17ca21e7d464",
   "metadata": {},
   "source": [
    "### Filtering with isin\n",
    "\n",
    "The `isin` method is useful for filtering data rows where the column value is in a predefined list of values. It's especially useful for categorical data:\n",
    "\n",
    "```python\n",
    "# Sample DataFrame\n",
    "data = {'name': ['Alice', 'Bob', 'Charlie', 'David', 'Eve'],\n",
    "        'department': ['HR', 'Finance', 'IT', 'HR', 'IT']}\n",
    "df = pd.DataFrame(data)\n",
    "\n",
    "# Filtering using isin\n",
    "filtered_df = df[df['department'].isin(['HR', 'IT'])]\n",
    "print(filtered_df)\n",
    "```\n",
    "\n",
    "Result:\n",
    "\n",
    "```plaintext\n",
    "      name department\n",
    "0    Alice         HR\n",
    "2  Charlie         IT\n",
    "3    David         HR\n",
    "4      Eve         IT\n",
    "```\n",
    "\n",
    "This example filters rows where the `department` column contains either 'HR' or 'IT'."
   ]
  },
  {
   "cell_type": "code",
   "execution_count": 124,
   "id": "211a5e5d-ee77-4b6a-ba4e-57d78c60816d",
   "metadata": {},
   "outputs": [
    {
     "name": "stdout",
     "output_type": "stream",
     "text": [
      "      name department\n",
      "0    Alice         HR\n",
      "2  Charlie         IT\n",
      "3    David         HR\n",
      "4      Eve         IT\n"
     ]
    }
   ],
   "source": [
    "# Sample DataFrame\n",
    "data = {'name': ['Alice', 'Bob', 'Charlie', 'David', 'Eve'],\n",
    "        'department': ['HR', 'Finance', 'IT', 'HR', 'IT']}\n",
    "df = pd.DataFrame(data)\n",
    "\n",
    "# Filtering using isin\n",
    "filtered_df = df[df['department'].isin(['HR', 'IT'])]\n",
    "print(filtered_df)"
   ]
  },
  {
   "cell_type": "markdown",
   "id": "c16819a0-42ff-458e-9fb6-504d63f313b2",
   "metadata": {},
   "source": [
    "These advanced querying techniques enhance the ability to perform targeted data analysis, allowing for the extraction of specific segments of data based on complex criteria."
   ]
  },
  {
   "cell_type": "markdown",
   "id": "f362874a-b1e6-48f9-b2db-3f83aa9b8a01",
   "metadata": {},
   "source": [
    "## Multi-Index Operations\n",
    "\n",
    "Handling high-dimensional data often requires the use of multi-level indexing, or MultiIndex, which allows you to store and manipulate data with an arbitrary number of dimensions in lower-dimensional data structures like DataFrames. This chapter covers creating a MultiIndex and performing slicing operations on such structures.\n",
    "\n",
    "### Creating MultiIndex\n",
    "\n",
    "MultiIndexing enhances data aggregation and grouping capabilities. It allows for more complex data manipulations and more sophisticated analysis:\n",
    "\n",
    "```python\n",
    "import pandas as pd\n",
    "\n",
    "# Sample DataFrame\n",
    "data = {\n",
    "    'state': ['CA', 'CA', 'NY', 'NY', 'TX', 'TX'],\n",
    "    'year': [2001, 2002, 2001, 2002, 2001, 2002],\n",
    "    'population': [34.5, 35.2, 18.9, 19.7, 20.1, 20.9]\n",
    "}\n",
    "df = pd.DataFrame(data)\n",
    "\n",
    "# Creating a MultiIndex DataFrame\n",
    "df.set_index(['state', 'year'], inplace = True)\n",
    "print(df)\n",
    "```\n",
    "\n",
    "Result:\n",
    "\n",
    "```plaintext\n",
    "            population\n",
    "state year\n",
    "CA    2001        34.5\n",
    "      2002        35.2\n",
    "NY    2001        18.9\n",
    "      2002        19.7\n",
    "TX    2001        20.1\n",
    "      2002        20.9\n",
    "```"
   ]
  },
  {
   "cell_type": "code",
   "execution_count": 125,
   "id": "8d3af78c-695e-48d4-880e-e10266be81c2",
   "metadata": {},
   "outputs": [
    {
     "name": "stdout",
     "output_type": "stream",
     "text": [
      "            population\n",
      "state year            \n",
      "CA    2001        34.5\n",
      "      2002        35.2\n",
      "NY    2001        18.9\n",
      "      2002        19.7\n",
      "TX    2001        20.1\n",
      "      2002        20.9\n"
     ]
    }
   ],
   "source": [
    "import pandas as pd\n",
    "\n",
    "# Sample DataFrame\n",
    "data = {\n",
    "    'state': ['CA', 'CA', 'NY', 'NY', 'TX', 'TX'],\n",
    "    'year': [2001, 2002, 2001, 2002, 2001, 2002],\n",
    "    'population': [34.5, 35.2, 18.9, 19.7, 20.1, 20.9]\n",
    "}\n",
    "df = pd.DataFrame(data)\n",
    "\n",
    "# Creating a MultiIndex DataFrame\n",
    "df.set_index(['state', 'year'], inplace = True)\n",
    "print(df)"
   ]
  },
  {
   "cell_type": "markdown",
   "id": "1ffc9b43-2f1e-4179-816a-c49e61a39a68",
   "metadata": {},
   "source": [
    "### Slicing on MultiIndex\n",
    "\n",
    "Slicing a DataFrame with a MultiIndex involves specifying the ranges for each level of the index, which can be done using the `slice` function or by specifying index values directly:\n",
    "\n",
    "```python\n",
    "# Slicing MultiIndex DataFrame\n",
    "sliced_df = df.loc[(slice('CA', 'NY'),)]\n",
    "print(sliced_df)\n",
    "```\n",
    "\n",
    "Result:\n",
    "\n",
    "```plaintext\n",
    "            population\n",
    "state year            \n",
    "CA    2001        34.5\n",
    "      2002        35.2\n",
    "NY    2001        18.9\n",
    "      2002        19.7\n",
    "```\n",
    "\n",
    "This example demonstrates slicing the DataFrame to include data from states 'CA' to 'NY' for the years 2001 and 2002."
   ]
  },
  {
   "cell_type": "code",
   "execution_count": 126,
   "id": "13d161fc-94cf-49bc-9cad-47fb2b78e76b",
   "metadata": {},
   "outputs": [
    {
     "name": "stdout",
     "output_type": "stream",
     "text": [
      "            population\n",
      "state year            \n",
      "CA    2001        34.5\n",
      "      2002        35.2\n",
      "NY    2001        18.9\n",
      "      2002        19.7\n"
     ]
    }
   ],
   "source": [
    "# Slicing MultiIndex DataFrame\n",
    "sliced_df = df.loc[(slice('CA', 'NY'),)]\n",
    "print(sliced_df)"
   ]
  },
  {
   "cell_type": "markdown",
   "id": "e20305a3-d102-482b-a289-248ef410637b",
   "metadata": {},
   "source": [
    "These MultiIndex operations are essential for working with complex data structures effectively, enabling more nuanced data retrieval and manipulation."
   ]
  },
  {
   "cell_type": "markdown",
   "id": "59e4aef8-c3c4-4db6-a51f-ef8f1e9e15b8",
   "metadata": {},
   "source": [
    "## Data Merging Techniques\n",
    "\n",
    "Merging data is a fundamental aspect of many data analysis tasks, especially when combining information from multiple sources. Pandas provides powerful functions to merge DataFrames in a manner similar to SQL joins. This chapter will cover four primary types of merges: outer, inner, left, and right joins.\n",
    "\n",
    "### Outer Join\n",
    "\n",
    "An outer join returns all records when there is a match in either the left or right DataFrame. If there is no match, the missing side will contain `NaN`.\n",
    "\n",
    "```python\n",
    "import pandas as pd\n",
    "\n",
    "# Sample DataFrames\n",
    "data1 = {'column': ['A', 'B', 'C'],\n",
    "         'values1': [1, 2, 3]}\n",
    "df1 = pd.DataFrame(data1)\n",
    "data2 = {'column': ['B', 'C', 'D'],\n",
    "         'values2': [4, 5, 6]}\n",
    "df2 = pd.DataFrame(data2)\n",
    "\n",
    "# Performing an outer join\n",
    "outer_joined = pd.merge(df1, df2, on = 'column', how = 'outer')\n",
    "print(outer_joined)\n",
    "```\n",
    "\n",
    "Result:\n",
    "\n",
    "```plaintext\n",
    "  column  values1  values2\n",
    "0      A      1.0      NaN\n",
    "1      B      2.0      4.0\n",
    "2      C      3.0      5.0\n",
    "3      D      NaN      6.0\n",
    "```"
   ]
  },
  {
   "cell_type": "code",
   "execution_count": 127,
   "id": "bd62b757-e712-4609-a689-1ed61b849cd3",
   "metadata": {},
   "outputs": [
    {
     "name": "stdout",
     "output_type": "stream",
     "text": [
      "  column  values1  values2\n",
      "0      A      1.0      NaN\n",
      "1      B      2.0      4.0\n",
      "2      C      3.0      5.0\n",
      "3      D      NaN      6.0\n"
     ]
    }
   ],
   "source": [
    "import pandas as pd\n",
    "\n",
    "# Sample DataFrames\n",
    "data1 = {'column': ['A', 'B', 'C'],\n",
    "         'values1': [1, 2, 3]}\n",
    "df1 = pd.DataFrame(data1)\n",
    "data2 = {'column': ['B', 'C', 'D'],\n",
    "         'values2': [4, 5, 6]}\n",
    "df2 = pd.DataFrame(data2)\n",
    "\n",
    "# Performing an outer join\n",
    "outer_joined = pd.merge(df1, df2, on = 'column', how = 'outer')\n",
    "print(outer_joined)"
   ]
  },
  {
   "cell_type": "markdown",
   "id": "5b027b02-0570-4197-9529-5971e1f89697",
   "metadata": {},
   "source": [
    "### Inner Join\n",
    "\n",
    "An inner join returns records that have matching values in both DataFrames.\n",
    "\n",
    "```python\n",
    "# Performing an inner join\n",
    "inner_joined = pd.merge(df1, df2, on = 'column', how = 'inner')\n",
    "print(inner_joined)\n",
    "```\n",
    "\n",
    "Result:\n",
    "\n",
    "```plaintext\n",
    "  column  values1  values2\n",
    "0      B        2        4\n",
    "1      C        3        5\n",
    "```"
   ]
  },
  {
   "cell_type": "code",
   "execution_count": 128,
   "id": "c0884304-46c3-493c-851b-bf738201a26c",
   "metadata": {},
   "outputs": [
    {
     "name": "stdout",
     "output_type": "stream",
     "text": [
      "  column  values1  values2\n",
      "0      B        2        4\n",
      "1      C        3        5\n"
     ]
    }
   ],
   "source": [
    "# Performing an inner join\n",
    "inner_joined = pd.merge(df1, df2, on = 'column', how = 'inner')\n",
    "print(inner_joined)"
   ]
  },
  {
   "cell_type": "markdown",
   "id": "5a3652b9-ab8e-4d82-a608-20da3d2a4eb4",
   "metadata": {},
   "source": [
    "### Left Join\n",
    "\n",
    "A left join returns all records from the left DataFrame, and the matched records from the right DataFrame. The result is `NaN` in the right side where there is no match.\n",
    "\n",
    "```python\n",
    "# Performing a left join\n",
    "left_joined = pd.merge(df1, df2, on = 'column', how = 'left')\n",
    "print(left_joined)\n",
    "```\n",
    "\n",
    "Result:\n",
    "\n",
    "```plaintext\n",
    "  column  values1  values2\n",
    "0      A        1      NaN\n",
    "1      B        2      4.0\n",
    "2      C        3      5.0\n",
    "```"
   ]
  },
  {
   "cell_type": "code",
   "execution_count": 129,
   "id": "6a2f6b4c-6c6b-4c54-89a0-c03e7354f8f4",
   "metadata": {},
   "outputs": [
    {
     "name": "stdout",
     "output_type": "stream",
     "text": [
      "  column  values1  values2\n",
      "0      A        1      NaN\n",
      "1      B        2      4.0\n",
      "2      C        3      5.0\n"
     ]
    }
   ],
   "source": [
    "# Performing a left join\n",
    "left_joined = pd.merge(df1, df2, on = 'column', how = 'left')\n",
    "print(left_joined)"
   ]
  },
  {
   "cell_type": "markdown",
   "id": "3fa6bce8-62c8-431a-9a2e-04b1046a2149",
   "metadata": {},
   "source": [
    "### Right Join\n",
    "\n",
    "A right join returns all records from the right DataFrame, and the matched records from the left DataFrame. The result is `NaN` in the left side where there is no match.\n",
    "\n",
    "```python\n",
    "# Performing a right join\n",
    "right_joined = pd.merge(df1, df2, on = 'column', how = 'right')\n",
    "print(right_joined)\n",
    "```\n",
    "\n",
    "Result:\n",
    "\n",
    "```plaintext\n",
    "  column  values1  values2\n",
    "0      B        2      4.0\n",
    "1      C        3      5.0\n",
    "2      D      NaN      6.0\n",
    "```"
   ]
  },
  {
   "cell_type": "code",
   "execution_count": 130,
   "id": "3cb736bd-5453-48bf-987e-e6575ebcb0aa",
   "metadata": {},
   "outputs": [
    {
     "name": "stdout",
     "output_type": "stream",
     "text": [
      "  column  values1  values2\n",
      "0      B      2.0        4\n",
      "1      C      3.0        5\n",
      "2      D      NaN        6\n"
     ]
    }
   ],
   "source": [
    "# Performing a right join\n",
    "right_joined = pd.merge(df1, df2, on = 'column', how = 'right')\n",
    "print(right_joined)"
   ]
  },
  {
   "cell_type": "markdown",
   "id": "f5cadefa-0519-4a07-be83-fd10d7ba2ab8",
   "metadata": {},
   "source": [
    "These data merging techniques are crucial for combining data from different sources, allowing for more comprehensive analyses by creating a unified dataset from multiple disparate sources."
   ]
  },
  {
   "cell_type": "markdown",
   "id": "0b5826fd-d93c-4be6-98b1-b992d04c73d1",
   "metadata": {},
   "source": [
    "## Dealing with Duplicates\n",
    "\n",
    "Duplicate data can skew analysis and lead to incorrect conclusions, making it essential to identify and handle duplicates effectively. Pandas provides straightforward tools to find and remove duplicates in your datasets. This chapter will guide you through these processes.\n",
    "\n",
    "### Finding Duplicates\n",
    "\n",
    "The `duplicated()` function returns a boolean series indicating whether each row is a duplicate of a row that appeared earlier in the DataFrame. Here's how to use it:\n",
    "\n",
    "```python\n",
    "import pandas as pd\n",
    "\n",
    "# Sample DataFrame\n",
    "data = {'name': ['Alice', 'Bob', 'Charlie', 'Bob', 'Charlie'],\n",
    "        'age': [25, 30, 35, 30, 35]}\n",
    "df = pd.DataFrame(data)\n",
    "\n",
    "# Finding duplicates\n",
    "duplicates = df.duplicated()\n",
    "print(duplicates)\n",
    "```\n",
    "\n",
    "Result:\n",
    "\n",
    "```plaintext\n",
    "0    False\n",
    "1    False\n",
    "2    False\n",
    "3     True\n",
    "4     True\n",
    "dtype: bool\n",
    "```\n",
    "\n",
    "In this output, `True` indicates that the row is a duplicate of an earlier row in the DataFrame."
   ]
  },
  {
   "cell_type": "code",
   "execution_count": 131,
   "id": "41c3e340-e8e7-4d04-8bdc-d37cbd950d8b",
   "metadata": {},
   "outputs": [
    {
     "name": "stdout",
     "output_type": "stream",
     "text": [
      "0    False\n",
      "1    False\n",
      "2    False\n",
      "3     True\n",
      "4     True\n",
      "dtype: bool\n"
     ]
    }
   ],
   "source": [
    "import pandas as pd\n",
    "\n",
    "# Sample DataFrame\n",
    "data = {'name': ['Alice', 'Bob', 'Charlie', 'Bob', 'Charlie'],\n",
    "        'age': [25, 30, 35, 30, 35]}\n",
    "df = pd.DataFrame(data)\n",
    "\n",
    "# Finding duplicates\n",
    "duplicates = df.duplicated()\n",
    "print(duplicates)"
   ]
  },
  {
   "cell_type": "markdown",
   "id": "f7080508-5489-4119-979a-ad9936f01adc",
   "metadata": {},
   "source": [
    "### Removing Duplicates\n",
    "\n",
    "To remove the duplicate rows from the DataFrame, use the `drop_duplicates()` function. By default, this function keeps the first occurrence and removes subsequent duplicates.\n",
    "\n",
    "```python\n",
    "# Removing duplicates\n",
    "df_unique = df.drop_duplicates()\n",
    "print(df_unique)\n",
    "```\n",
    "\n",
    "Result:\n",
    "\n",
    "```plaintext\n",
    "      name  age\n",
    "0    Alice   25\n",
    "1      Bob   30\n",
    "2  Charlie   35\n",
    "```\n",
    "\n",
    "This method has removed rows 3 and 4, which were duplicates of earlier rows. You can also customize this behavior with the `keep` parameter, which can be set to `'last'` to keep the last occurrence instead of the first, or `False` to remove all duplicates entirely."
   ]
  },
  {
   "cell_type": "code",
   "execution_count": 132,
   "id": "68a5d427-1110-40cb-a719-57bfea7658a9",
   "metadata": {},
   "outputs": [
    {
     "name": "stdout",
     "output_type": "stream",
     "text": [
      "      name  age\n",
      "0    Alice   25\n",
      "1      Bob   30\n",
      "2  Charlie   35\n"
     ]
    }
   ],
   "source": [
    "# Removing duplicates\n",
    "df_unique = df.drop_duplicates()\n",
    "print(df_unique)"
   ]
  },
  {
   "cell_type": "markdown",
   "id": "f89ff815-2b01-4235-9a2b-c5431923ff8e",
   "metadata": {},
   "source": [
    "These techniques are essential for ensuring data quality, enabling accurate and reliable data analysis by maintaining only unique data entries in your DataFrame."
   ]
  },
  {
   "cell_type": "markdown",
   "id": "14eb0367-37f8-45ea-8b75-bb656596d170",
   "metadata": {},
   "source": [
    "## Custom Operations with Apply\n",
    "\n",
    "The `apply` function in Pandas is highly versatile, allowing you to execute custom functions across an entire DataFrame or along a specified axis. This flexibility makes it indispensable for performing complex operations that are not directly supported by built-in methods. This chapter will demonstrate how to use `apply` for custom operations.\n",
    "\n",
    "### Custom Apply Functions\n",
    "\n",
    "Using `apply` with a lambda function allows you to define inline functions to apply to each row or column of a DataFrame. Here is how you can use a custom function to process data row-wise:\n",
    "\n",
    "```python\n",
    "import pandas as pd\n",
    "\n",
    "# Define a custom function\n",
    "def custom_func(x, y):\n",
    "    return x * 2 + y\n",
    "\n",
    "# Sample DataFrame\n",
    "data = {'col1': [1, 2, 3],\n",
    "        'col2': [4, 5, 6]}\n",
    "df = pd.DataFrame(data)\n",
    "\n",
    "# Applying a custom function row-wise\n",
    "df['result'] = df.apply(lambda row: custom_func(row['col1'], row['col2']), axis=1)\n",
    "print(df)\n",
    "```\n",
    "\n",
    "Result:\n",
    "\n",
    "```plaintext\n",
    "   col1  col2  result\n",
    "0     1     4       6\n",
    "1     2     5       9\n",
    "2     3     6      12\n",
    "```\n",
    "\n",
    "In this example, the `custom_func` is applied to each row of the DataFrame using `apply`. The function calculates a new value based on columns 'col1' and 'col2' for each row, and the results are stored in a new column 'result'."
   ]
  },
  {
   "cell_type": "code",
   "execution_count": 133,
   "id": "224e979f-2d77-4074-9b92-a4d2696f685d",
   "metadata": {},
   "outputs": [
    {
     "name": "stdout",
     "output_type": "stream",
     "text": [
      "   col1  col2  result\n",
      "0     1     4       6\n",
      "1     2     5       9\n",
      "2     3     6      12\n"
     ]
    }
   ],
   "source": [
    "import pandas as pd\n",
    "\n",
    "# Define a custom function\n",
    "def custom_func(x, y):\n",
    "    return x * 2 + y\n",
    "\n",
    "# Sample DataFrame\n",
    "data = {'col1': [1, 2, 3],\n",
    "        'col2': [4, 5, 6]}\n",
    "df = pd.DataFrame(data)\n",
    "\n",
    "# Applying a custom function row-wise\n",
    "df['result'] = df.apply(lambda row: custom_func(row['col1'], row['col2']), axis=1)\n",
    "print(df)"
   ]
  },
  {
   "cell_type": "markdown",
   "id": "f8d56714-5252-4451-b241-8e519da494b3",
   "metadata": {},
   "source": [
    "This method of applying custom functions is powerful for data manipulation and transformation, allowing for operations that go beyond simple arithmetic or aggregation. It's particularly useful when you need to perform operations that are specific to your data and not provided by Pandas' built-in methods."
   ]
  },
  {
   "cell_type": "markdown",
   "id": "b5db43a3-cf09-4626-9007-28359ad39cd2",
   "metadata": {},
   "source": [
    "## Integration with Matplotlib for Custom Plots\n",
    "\n",
    "Visualizing data is a key step in data analysis, providing insights that are not apparent from raw data alone. Pandas integrates smoothly with Matplotlib, a popular plotting library in Python, to offer versatile options for data visualization. This chapter will show how to create custom plots using Pandas and Matplotlib.\n",
    "\n",
    "### Custom Plotting\n",
    "\n",
    "Pandas' plotting capabilities are built on Matplotlib, allowing for straightforward generation of various types of plots directly from DataFrame and Series objects.\n",
    "\n",
    "#### Line Plot\n",
    "\n",
    "Here's how to create a simple line plot displaying trends over a series of values:\n",
    "\n",
    "```python\n",
    "import pandas as pd\n",
    "import matplotlib.pyplot as plt\n",
    "\n",
    "# Sample data\n",
    "data = {'Year': [2010, 2011, 2012, 2013, 2014],\n",
    "        'Sales': [100, 150, 200, 250, 300]}\n",
    "df = pd.DataFrame(data)\n",
    "\n",
    "# Plotting\n",
    "df.plot(x = 'Year', y = 'Sales', kind = 'line')\n",
    "plt.title('Yearly Sales')\n",
    "plt.ylabel('Sales')\n",
    "plt.show()\n",
    "```"
   ]
  },
  {
   "cell_type": "code",
   "execution_count": 134,
   "id": "32d3aaf4-438e-4e4f-89f6-5f4e54580876",
   "metadata": {},
   "outputs": [
    {
     "data": {
      "image/png": "[encoded data removed]",
      "text/plain": [
       "<Figure size 640x480 with 1 Axes>"
      ]
     },
     "metadata": {},
     "output_type": "display_data"
    }
   ],
   "source": [
    "import pandas as pd\n",
    "import matplotlib.pyplot as plt\n",
    "\n",
    "# Sample data\n",
    "data = {'Year': [2010, 2011, 2012, 2013, 2014],\n",
    "        'Sales': [100, 150, 200, 250, 300]}\n",
    "df = pd.DataFrame(data)\n",
    "\n",
    "# Plotting\n",
    "df.plot(x = 'Year', y = 'Sales', kind = 'line')\n",
    "plt.title('Yearly Sales')\n",
    "plt.ylabel('Sales')\n",
    "plt.show()"
   ]
  },
  {
   "cell_type": "markdown",
   "id": "4f54c82c-ff6d-48ba-8b66-f12e4c1a254a",
   "metadata": {},
   "source": [
    "#### Histogram\n",
    "\n",
    "Histograms are great for visualizing the distribution of numerical data:\n",
    "\n",
    "```python\n",
    "# Sample data\n",
    "data = {'Grades': [88, 92, 80, 89, 90, 78, 84, 76, 95, 92]}\n",
    "df = pd.DataFrame(data)\n",
    "\n",
    "# Plotting a histogram\n",
    "df['Grades']\\\n",
    "    .plot(kind = 'hist',\n",
    "          bins = 5,\n",
    "          alpha = 0.7)\n",
    "plt.title('Distribution of Grades')\n",
    "plt.xlabel('Grades')\n",
    "plt.show()\n",
    "```"
   ]
  },
  {
   "cell_type": "code",
   "execution_count": 135,
   "id": "19b10f39-d7d5-41c6-a425-828b77f652ad",
   "metadata": {},
   "outputs": [
    {
     "data": {
      "image/png": "[encoded data removed]",
      "text/plain": [
       "<Figure size 640x480 with 1 Axes>"
      ]
     },
     "metadata": {},
     "output_type": "display_data"
    }
   ],
   "source": [
    "# Sample data\n",
    "data = {'Grades': [88, 92, 80, 89, 90, 78, 84, 76, 95, 92]}\n",
    "df = pd.DataFrame(data)\n",
    "\n",
    "# Plotting a histogram\n",
    "df['Grades']\\\n",
    "    .plot(kind = 'hist',\n",
    "          bins = 5,\n",
    "          alpha = 0.7)\n",
    "plt.title('Distribution of Grades')\n",
    "plt.xlabel('Grades')\n",
    "plt.show()"
   ]
  },
  {
   "cell_type": "markdown",
   "id": "773b6e45-16f1-4b5d-a793-dddf19e557d5",
   "metadata": {},
   "source": [
    "#### Scatter Plot\n",
    "\n",
    "Scatter plots are used to observe relationships between variables:\n",
    "\n",
    "```python\n",
    "# Sample data\n",
    "data = {'Hours': [1, 2, 3, 4, 5],\n",
    "        'Scores': [77, 78, 85, 93, 89]}\n",
    "df = pd.DataFrame(data)\n",
    "\n",
    "# Creating a scatter plot\n",
    "df.plot(kind = 'scatter', x = 'Hours', y = 'Scores')\n",
    "plt.title('Test Scores by Hours Studied')\n",
    "plt.xlabel('Hours Studied')\n",
    "plt.ylabel('Test Scores')\n",
    "plt.show()\n",
    "```"
   ]
  },
  {
   "cell_type": "code",
   "execution_count": 136,
   "id": "ea4b7792-b0d5-455a-be56-fe4b60d9a41e",
   "metadata": {},
   "outputs": [
    {
     "data": {
      "image/png": "[encoded data removed]",
      "text/plain": [
       "<Figure size 640x480 with 1 Axes>"
      ]
     },
     "metadata": {},
     "output_type": "display_data"
    }
   ],
   "source": [
    "# Sample data\n",
    "data = {'Hours': [1, 2, 3, 4, 5],\n",
    "        'Scores': [77, 78, 85, 93, 89]}\n",
    "df = pd.DataFrame(data)\n",
    "\n",
    "# Creating a scatter plot\n",
    "df.plot(kind = 'scatter', x = 'Hours', y = 'Scores')\n",
    "plt.title('Test Scores by Hours Studied')\n",
    "plt.xlabel('Hours Studied')\n",
    "plt.ylabel('Test Scores')\n",
    "plt.show()"
   ]
  },
  {
   "cell_type": "markdown",
   "id": "a13ff1d5-48e4-48f4-8218-021c9df47271",
   "metadata": {},
   "source": [
    "#### Bar Chart\n",
    "\n",
    "Bar charts are useful for comparing quantities corresponding to different groups:\n",
    "\n",
    "```python\n",
    "# Sample data\n",
    "data = {'Bars': ['A', 'B', 'C', 'D'],\n",
    "        'Values': [10, 15, 7, 10]}\n",
    "df = pd.DataFrame(data)\n",
    "\n",
    "# Creating a bar chart\n",
    "df.plot(kind = 'bar',\n",
    "        x = 'Bars',\n",
    "        y = 'Values',\n",
    "        color = 'blue',\n",
    "        legend = None)\n",
    "plt.title('Bar Chart Example')\n",
    "plt.ylabel('Values')\n",
    "plt.show()\n",
    "```"
   ]
  },
  {
   "cell_type": "code",
   "execution_count": 137,
   "id": "c9dcd7b6-90b4-4f78-9312-7bca3fc54878",
   "metadata": {},
   "outputs": [
    {
     "data": {
      "image/png": "[encoded data removed]",
      "text/plain": [
       "<Figure size 640x480 with 1 Axes>"
      ]
     },
     "metadata": {},
     "output_type": "display_data"
    }
   ],
   "source": [
    "# Sample data\n",
    "data = {'Bars': ['A', 'B', 'C', 'D'],\n",
    "        'Values': [10, 15, 7, 10]}\n",
    "df = pd.DataFrame(data)\n",
    "\n",
    "# Creating a bar chart\n",
    "df.plot(kind = 'bar',\n",
    "        x = 'Bars',\n",
    "        y = 'Values',\n",
    "        color = 'blue',\n",
    "        legend = None)\n",
    "plt.title('Bar Chart Example')\n",
    "plt.ylabel('Values')\n",
    "plt.show()"
   ]
  },
  {
   "cell_type": "markdown",
   "id": "7033d389-ed57-4cfb-b2ea-bbdf2fcf2d66",
   "metadata": {},
   "source": [
    "These examples illustrate how to integrate Pandas with Matplotlib to create informative and visually appealing plots. This integration is vital for analyzing trends, distributions, relationships, and patterns in data effectively."
   ]
  },
  {
   "cell_type": "markdown",
   "id": "6e1ad9a6-22dc-421e-9d55-6fe20d50f39c",
   "metadata": {},
   "source": [
    "## Advanced Grouping and Aggregation\n",
    "\n",
    "Grouping and aggregating data are fundamental operations in data analysis, especially when dealing with large or complex datasets. Pandas offers advanced capabilities that allow for sophisticated grouping and aggregation strategies. This chapter explores some of these advanced techniques, including grouping by multiple columns, using multiple aggregation functions, and applying transformation functions.\n",
    "\n",
    "### Group by Multiple Columns\n",
    "\n",
    "Grouping by multiple columns allows you to perform more detailed analysis. Here's how to compute the mean of groups defined by multiple columns:\n",
    "\n",
    "```python\n",
    "import pandas as pd\n",
    "\n",
    "# Sample DataFrame\n",
    "data = {\n",
    "    'Department': ['Sales', 'Sales', 'HR', 'HR', 'IT', 'IT'],\n",
    "    'Team': ['A', 'B', 'A', 'B', 'A', 'B'],\n",
    "    'Revenue': [200, 210, 150, 160, 220, 230]\n",
    "}\n",
    "df = pd.DataFrame(data)\n",
    "\n",
    "# Grouping by multiple columns and calculating mean\n",
    "grouped_mean = df.groupby(['Department', 'Team']).mean()\n",
    "print(grouped_mean)\n",
    "```\n",
    "\n",
    "Result:\n",
    "\n",
    "```plaintext\n",
    "                  Revenue\n",
    "Department Team\n",
    "HR         A       150.0\n",
    "           B       160.0\n",
    "IT         A       220.0\n",
    "           B       230.0\n",
    "Sales      A       200.0\n",
    "           B       210.0\n",
    "```"
   ]
  },
  {
   "cell_type": "code",
   "execution_count": 138,
   "id": "df21d73d-508e-49b2-bd5f-b91bc51ddf49",
   "metadata": {},
   "outputs": [
    {
     "name": "stdout",
     "output_type": "stream",
     "text": [
      "                 Revenue\n",
      "Department Team         \n",
      "HR         A       150.0\n",
      "           B       160.0\n",
      "IT         A       220.0\n",
      "           B       230.0\n",
      "Sales      A       200.0\n",
      "           B       210.0\n"
     ]
    }
   ],
   "source": [
    "import pandas as pd\n",
    "\n",
    "# Sample DataFrame\n",
    "data = {\n",
    "    'Department': ['Sales', 'Sales', 'HR', 'HR', 'IT', 'IT'],\n",
    "    'Team': ['A', 'B', 'A', 'B', 'A', 'B'],\n",
    "    'Revenue': [200, 210, 150, 160, 220, 230]\n",
    "}\n",
    "df = pd.DataFrame(data)\n",
    "\n",
    "# Grouping by multiple columns and calculating mean\n",
    "grouped_mean = df.groupby(['Department', 'Team']).mean()\n",
    "print(grouped_mean)"
   ]
  },
  {
   "cell_type": "markdown",
   "id": "99c77131-941b-467c-b9a9-9bdb8bd81fed",
   "metadata": {},
   "source": [
    "### Aggregate with Multiple Functions\n",
    "\n",
    "You can apply multiple aggregation functions at once to get a broader statistical summary:\n",
    "\n",
    "```python\n",
    "# Applying multiple aggregation functions\n",
    "grouped_agg = df.groupby('Department')['Revenue'].agg(['mean', 'sum'])\n",
    "print(grouped_agg)\n",
    "```\n",
    "\n",
    "Result:\n",
    "\n",
    "```plaintext\n",
    "           Revenue\n",
    "              mean  sum\n",
    "Department\n",
    "HR           155.0  310\n",
    "IT           225.0  450\n",
    "Sales        205.0  410\n",
    "```"
   ]
  },
  {
   "cell_type": "code",
   "execution_count": 139,
   "id": "ceaeacc7-47dc-4049-adac-5edddb159d05",
   "metadata": {},
   "outputs": [
    {
     "name": "stdout",
     "output_type": "stream",
     "text": [
      "             mean  sum\n",
      "Department            \n",
      "HR          155.0  310\n",
      "IT          225.0  450\n",
      "Sales       205.0  410\n"
     ]
    }
   ],
   "source": [
    "# Applying multiple aggregation functions\n",
    "grouped_agg = df.groupby('Department')['Revenue'].agg(['mean', 'sum'])\n",
    "print(grouped_agg)"
   ]
  },
  {
   "cell_type": "markdown",
   "id": "b1ec401c-1f93-4926-af3e-0f7bc06fc766",
   "metadata": {},
   "source": [
    "### Transform Function\n",
    "\n",
    "The `transform` function is useful for performing operations that return a DataFrame with the same index as the original. It is particularly handy for standardizing data within groups:\n",
    "\n",
    "```python\n",
    "# Using transform to standardize data within groups\n",
    "df['Revenue_normalized'] = \\\n",
    "    df\\\n",
    "        .groupby('Department')['Revenue']\\\n",
    "        .transform(lambda x: (x - x.mean()) / x.std())\n",
    "print(df)\n",
    "```\n",
    "\n",
    "Result:\n",
    "\n",
    "```plaintext\n",
    "  Department Team  Revenue  Revenue_normalized\n",
    "0      Sales    A      200           -0.707107\n",
    "1      Sales    B      210            0.707107\n",
    "2         HR    A      150           -0.707107\n",
    "3         HR    B      160            0.707107\n",
    "4         IT    A      220           -0.707107\n",
    "5         IT    B      230            0.707107\n",
    "```\n",
    "\n",
    "This example demonstrates how to normalize the 'Revenue' within each 'Department', showing deviations from the department mean in terms of standard deviations."
   ]
  },
  {
   "cell_type": "code",
   "execution_count": 140,
   "id": "9f3475bd-5f8b-4380-86f4-8c79cd8d055f",
   "metadata": {},
   "outputs": [
    {
     "name": "stdout",
     "output_type": "stream",
     "text": [
      "  Department Team  Revenue  Revenue_normalized\n",
      "0      Sales    A      200           -0.707107\n",
      "1      Sales    B      210            0.707107\n",
      "2         HR    A      150           -0.707107\n",
      "3         HR    B      160            0.707107\n",
      "4         IT    A      220           -0.707107\n",
      "5         IT    B      230            0.707107\n"
     ]
    }
   ],
   "source": [
    "# Using transform to standardize data within groups\n",
    "df['Revenue_normalized'] = \\\n",
    "    df\\\n",
    "        .groupby('Department')['Revenue']\\\n",
    "        .transform(lambda x: (x - x.mean()) / x.std())\n",
    "print(df)"
   ]
  },
  {
   "cell_type": "markdown",
   "id": "10aaa7ff-0f49-4ac1-a1c3-686a7473d924",
   "metadata": {},
   "source": [
    "These advanced grouping and aggregation techniques provide powerful tools for breaking down complex data into meaningful summaries, enabling more nuanced analysis and insights."
   ]
  },
  {
   "cell_type": "markdown",
   "id": "f182d3be-d15e-4965-b960-37aac00547f8",
   "metadata": {},
   "source": [
    "## Text Data Specific Operations\n",
    "\n",
    "Text data often requires specific processing techniques to extract meaningful information or to reformat it for further analysis. Pandas provides a robust set of string operations that can be applied efficiently to Series and DataFrames. This chapter explores some essential operations for handling text data, including searching for substrings, splitting strings, and using regular expressions.\n",
    "\n",
    "### String Contains\n",
    "\n",
    "The `contains` method allows you to filter rows based on whether a column's text contains a specified substring. This is useful for subsetting data based on textual content:\n",
    "\n",
    "```python\n",
    "import pandas as pd\n",
    "\n",
    "# Sample DataFrame\n",
    "data = {'Description': ['Apple is sweet', 'Banana is yellow', 'Cherry is red']}\n",
    "df = pd.DataFrame(data)\n",
    "\n",
    "# Filtering rows where the Description column contains 'sweet'\n",
    "contains_sweet = df[df['Description'].str.contains('sweet')]\n",
    "print(contains_sweet)\n",
    "```\n",
    "\n",
    "Result:\n",
    "\n",
    "```plaintext\n",
    "     Description\n",
    "0  Apple is sweet\n",
    "```"
   ]
  },
  {
   "cell_type": "code",
   "execution_count": 141,
   "id": "6dc3e303-3026-402a-b571-4e29a4b67f05",
   "metadata": {},
   "outputs": [
    {
     "name": "stdout",
     "output_type": "stream",
     "text": [
      "      Description\n",
      "0  Apple is sweet\n"
     ]
    }
   ],
   "source": [
    "import pandas as pd\n",
    "\n",
    "# Sample DataFrame\n",
    "data = {'Description': ['Apple is sweet', 'Banana is yellow', 'Cherry is red']}\n",
    "df = pd.DataFrame(data)\n",
    "\n",
    "# Filtering rows where the Description column contains 'sweet'\n",
    "contains_sweet = df[df['Description'].str.contains('sweet')]\n",
    "print(contains_sweet)"
   ]
  },
  {
   "cell_type": "markdown",
   "id": "88c36c39-6da6-40f6-a908-ee4701575531",
   "metadata": {},
   "source": [
    "### String Split\n",
    "\n",
    "Splitting strings into separate components can be essential for data cleaning and preparation. The `split` method splits each string in the Series/Index by the given delimiter and optionally expands to separate columns:\n",
    "\n",
    "```python\n",
    "# Splitting the Description column into words\n",
    "split_description = df['Description'].str.split(' ', expand = True)\n",
    "print(split_description)\n",
    "```\n",
    "\n",
    "Result:\n",
    "\n",
    "```plaintext\n",
    "        0    1     2\n",
    "0   Apple   is sweet\n",
    "1  Banana   is yellow\n",
    "2  Cherry   is    red\n",
    "```\n",
    "\n",
    "This splits the 'Description' column into separate columns for each word."
   ]
  },
  {
   "cell_type": "code",
   "execution_count": 142,
   "id": "fda02f10-f22e-4343-afef-7f09ee88afb2",
   "metadata": {},
   "outputs": [
    {
     "name": "stdout",
     "output_type": "stream",
     "text": [
      "        0   1       2\n",
      "0   Apple  is   sweet\n",
      "1  Banana  is  yellow\n",
      "2  Cherry  is     red\n"
     ]
    }
   ],
   "source": [
    "# Splitting the Description column into words\n",
    "split_description = df['Description'].str.split(' ', expand = True)\n",
    "print(split_description)"
   ]
  },
  {
   "cell_type": "markdown",
   "id": "2d831fe5-d420-441d-8ccb-36225c0d99b8",
   "metadata": {},
   "source": [
    "### Regular Expression Extraction\n",
    "\n",
    "Regular expressions are a powerful tool for extracting patterns from text. The `extract` method applies a regular expression pattern and extracts groups from the first match:\n",
    "\n",
    "```python\n",
    "# Extracting the first word where it starts with a capital letter followed by lower case letters\n",
    "extracted_words = df['Description'].str.extract(r'([A-Z][a-z]+)')\n",
    "print(extracted_words)\n",
    "```\n",
    "\n",
    "Result:\n",
    "\n",
    "```plaintext\n",
    "        0\n",
    "0   Apple\n",
    "1  Banana\n",
    "2  Cherry\n",
    "```\n",
    "\n",
    "This regular expression extracts the first word from each description, which starts with a capital letter and is followed by lowercase letters."
   ]
  },
  {
   "cell_type": "code",
   "execution_count": 143,
   "id": "bcecb8cb-2942-4fc3-9ee5-4a2085ed5569",
   "metadata": {},
   "outputs": [
    {
     "name": "stdout",
     "output_type": "stream",
     "text": [
      "        0\n",
      "0   Apple\n",
      "1  Banana\n",
      "2  Cherry\n"
     ]
    }
   ],
   "source": [
    "# Extracting the first word where it starts with a capital letter followed by lower case letters\n",
    "extracted_words = df['Description'].str.extract(r'([A-Z][a-z]+)')\n",
    "print(extracted_words)"
   ]
  },
  {
   "cell_type": "markdown",
   "id": "3b1c75ba-f755-4baf-aa6f-6b9d8e719d12",
   "metadata": {},
   "source": [
    "These text-specific operations in Pandas simplify the process of working with textual data, allowing for efficient and powerful string manipulation and analysis."
   ]
  },
  {
   "cell_type": "markdown",
   "id": "23d45c64-f746-4825-92c3-1a1d70549b72",
   "metadata": {},
   "source": [
    "\n",
    "## Working with JSON and XML\n",
    "\n",
    "In today's data-driven world, JSON (JavaScript Object Notation) and XML (eXtensible Markup Language) are two of the most common formats used for storing and transferring data on the web. Pandas provides built-in functions to easily read these formats into DataFrames, facilitating the analysis of structured data. This chapter explains how to read JSON and XML files using Pandas.\n",
    "\n",
    "### Reading JSON\n",
    "\n",
    "JSON is a lightweight format that is easy for humans to read and write, and easy for machines to parse and generate. Pandas can directly read JSON data into a DataFrame:\n",
    "\n",
    "```python\n",
    "import pandas as pd\n",
    "\n",
    "# Reading JSON data\n",
    "df = pd.read_json('filename.json')\n",
    "print(df)\n",
    "```\n",
    "\n",
    "This method will convert a JSON file into a DataFrame. The keys of the JSON object will correspond to column names, and the values will form the data entries for the rows.\n",
    "\n",
    "### Reading XML\n",
    "\n",
    "XML is used for representing documents with a structured markup. It is more verbose than JSON but allows for a more structured hierarchy. Pandas can read XML data into a DataFrame, similar to how it reads JSON:\n",
    "\n",
    "```python\n",
    "# Reading XML data\n",
    "df = pd.read_xml('filename.xml')\n",
    "print(df)\n",
    "```\n",
    "\n",
    "This will parse an XML file and create a DataFrame. The tags of the XML file will typically define the columns, and their respective content will be the data for the rows.\n",
    "\n",
    "These functionalities allow for seamless integration of data from web sources and other systems that utilize JSON or XML for data interchange. By leveraging Pandas' ability to work with these formats, analysts can focus more on analyzing the data rather than spending time on data preparation.\n"
   ]
  },
  {
   "cell_type": "markdown",
   "id": "660c1f78-e5ce-440f-81a3-f68625ea7b08",
   "metadata": {},
   "source": [
    "## Advanced File Handling\n",
    "\n",
    "Handling files with various configurations and formats is a common necessity in data analysis. Pandas provides extensive capabilities for reading from and writing to different file types with varying delimiters and formats. This chapter will explore reading CSV files with specific delimiters and writing DataFrames to JSON files.\n",
    "\n",
    "### Read CSV with Specific Delimiter\n",
    "\n",
    "CSV files can come with different delimiters like commas (`,`), semicolons (`;`), or tabs (`\\t`). Pandas allows you to specify the delimiter when reading these files, which is crucial for correctly parsing the data.\n",
    "\n",
    "#### Reading CSV with Semicolon Delimiter\n",
    "\n",
    "Suppose you have a CSV file `filename.csv` with the following content:\n",
    "\n",
    "```\n",
    "Name;Age;City\n",
    "Alice;30;New York\n",
    "Bob;25;Los Angeles\n",
    "Charlie;35;Chicago\n",
    "```\n",
    "\n",
    "To read this CSV file into a DataFrame using Pandas, specify the semicolon as the delimiter:\n",
    "\n",
    "```python\n",
    "import pandas as pd\n",
    "\n",
    "# Reading a CSV file with semicolon delimiter\n",
    "df = pd.read_csv('filename.csv', delimiter=';')\n",
    "print(df)\n",
    "```\n",
    "\n",
    "Result:\n",
    "\n",
    "```plaintext\n",
    "      Name  Age         City\n",
    "0    Alice   30     New York\n",
    "1      Bob   25  Los Angeles\n",
    "2  Charlie   35      Chicago\n",
    "```\n",
    "\n",
    "#### Reading CSV with Tab Delimiter\n",
    "\n",
    "If the CSV file uses tabs as delimiters, here’s how you might see the file and read it:\n",
    "\n",
    "File content (`filename_tab.csv`):\n",
    "\n",
    "```\n",
    "Name\tAge\tCity\n",
    "Alice\t30\tNew York\n",
    "Bob\t25\tLos Angeles\n",
    "Charlie\t35\tChicago\n",
    "```\n",
    "\n",
    "To read this file:\n",
    "\n",
    "```python\n",
    "# Reading a CSV file with tab delimiter\n",
    "df_tab = pd.read_csv('filename_tab.csv', delimiter = '\\t')\n",
    "print(df_tab)\n",
    "```\n",
    "\n",
    "Result:\n",
    "\n",
    "```plaintext\n",
    "      Name  Age         City\n",
    "0    Alice   30     New York\n",
    "1      Bob   25  Los Angeles\n",
    "2  Charlie   35      Chicago\n",
    "```\n",
    "\n",
    "### Writing to JSON\n",
    "\n",
    "Writing data to JSON format can be useful for web applications and APIs. Here's how to write a DataFrame to a JSON file:\n",
    "\n",
    "```python\n",
    "# DataFrame to write to JSON\n",
    "df.to_json('filename.json')\n",
    "```\n",
    "\n",
    "Assuming `df` contains the previous data, the JSON file `filename.json` would look like this:\n",
    "\n",
    "```json\n",
    "{\"Name\":{\"0\":\"Alice\",\"1\":\"Bob\",\"2\":\"Charlie\"},\"Age\":{\"0\":30,\"1\":25,\"2\":35},\"City\":{\"0\":\"New York\",\"1\":\"Los Angeles\",\"2\":\"Chicago\"}}\n",
    "```\n",
    "\n",
    "This format is known as 'column-oriented' JSON. Pandas also supports other JSON orientations which can be specified using the `orient` parameter.\n",
    "\n",
    "These advanced file handling techniques ensure that you can work with a wide range of file formats and configurations, facilitating data sharing and integration across different systems and applications.\n"
   ]
  },
  {
   "cell_type": "markdown",
   "id": "ea2dea1d-7c3b-4c9f-8cf0-c71dada3cd45",
   "metadata": {},
   "source": [
    "## Dealing with Missing Data\n",
    "\n",
    "Missing data can significantly impact the results of your data analysis if not properly handled. Pandas provides several methods to deal with missing values, allowing you to either fill these gaps or make interpolations based on the existing data. This chapter explores methods like interpolation, forward filling, and backward filling.\n",
    "\n",
    "### Interpolate Missing Values\n",
    "\n",
    "Interpolation is a method of estimating missing values by using other available data points. It is particularly useful in time series data where this can estimate the trends accurately:\n",
    "\n",
    "```python\n",
    "import pandas as pd\n",
    "import numpy as np\n",
    "\n",
    "# Sample DataFrame with missing values\n",
    "data = {'value': [1, np.nan, np.nan, 4, 5]}\n",
    "df = pd.DataFrame(data)\n",
    "\n",
    "# Interpolating missing values\n",
    "df['value'] = df['value'].interpolate()\n",
    "print(df)\n",
    "```\n",
    "\n",
    "Result:\n",
    "\n",
    "```plaintext\n",
    "   value\n",
    "0    1.0\n",
    "1    2.0\n",
    "2    3.0\n",
    "3    4.0\n",
    "4    5.0\n",
    "```\n",
    "\n",
    "Here, `interpolate()` linearly estimates the missing values between the existing numbers."
   ]
  },
  {
   "cell_type": "code",
   "execution_count": 144,
   "id": "c50140ee-52c4-425f-beab-f960373a7b81",
   "metadata": {},
   "outputs": [
    {
     "name": "stdout",
     "output_type": "stream",
     "text": [
      "   value\n",
      "0    1.0\n",
      "1    2.0\n",
      "2    3.0\n",
      "3    4.0\n",
      "4    5.0\n"
     ]
    }
   ],
   "source": [
    "import pandas as pd\n",
    "import numpy as np\n",
    "\n",
    "# Sample DataFrame with missing values\n",
    "data = {'value': [1, np.nan, np.nan, 4, 5]}\n",
    "df = pd.DataFrame(data)\n",
    "\n",
    "# Interpolating missing values\n",
    "df['value'] = df['value'].interpolate()\n",
    "print(df)"
   ]
  },
  {
   "cell_type": "markdown",
   "id": "8300d823-7446-4955-8b34-0290340b11ad",
   "metadata": {},
   "source": [
    "### Forward Fill Missing Values\n",
    "\n",
    "Forward fill (`ffill`) propagates the last observed non-null value forward until another non-null value is encountered:\n",
    "\n",
    "```python\n",
    "# Sample DataFrame with missing values\n",
    "data = {'value': [1, np.nan, np.nan, 4, 5]}\n",
    "df = pd.DataFrame(data)\n",
    "\n",
    "# Applying forward fill\n",
    "df['value'].ffill(inplace = True)\n",
    "print(df)\n",
    "```\n",
    "\n",
    "Result:\n",
    "\n",
    "```plaintext\n",
    "   value\n",
    "0    1.0\n",
    "1    1.0\n",
    "2    1.0\n",
    "3    4.0\n",
    "4    5.0\n",
    "```"
   ]
  },
  {
   "cell_type": "code",
   "execution_count": 145,
   "id": "bdb53fe7-0497-4dbb-b08c-53d76a8d77e6",
   "metadata": {},
   "outputs": [
    {
     "name": "stdout",
     "output_type": "stream",
     "text": [
      "   value\n",
      "0    1.0\n",
      "1    1.0\n",
      "2    1.0\n",
      "3    4.0\n",
      "4    5.0\n"
     ]
    }
   ],
   "source": [
    "# Sample DataFrame with missing values\n",
    "data = {'value': [1, np.nan, np.nan, 4, 5]}\n",
    "df = pd.DataFrame(data)\n",
    "\n",
    "# Applying forward fill\n",
    "df['value'].ffill(inplace = True)\n",
    "print(df)"
   ]
  },
  {
   "cell_type": "markdown",
   "id": "b7dfbea5-faab-45e0-acda-2bad4d6a7f93",
   "metadata": {},
   "source": [
    "### Backward Fill Missing Values\n",
    "\n",
    "Backward fill (`bfill`) propagates the next observed non-null value backwards until another non-null value is met:\n",
    "\n",
    "```python\n",
    "# Sample DataFrame with missing values\n",
    "data = {'value': [1, np.nan, np.nan, 4, 5]}\n",
    "df = pd.DataFrame(data)\n",
    "\n",
    "# Applying backward fill\n",
    "df['value'].bfill(inplace = True)\n",
    "print(df)\n",
    "```\n",
    "\n",
    "Result:\n",
    "\n",
    "```plaintext\n",
    "   value\n",
    "0    1.0\n",
    "1    4.0\n",
    "2    4.0\n",
    "3    4.0\n",
    "4    5.0\n",
    "```"
   ]
  },
  {
   "cell_type": "code",
   "execution_count": 146,
   "id": "af3a9b8c-a2ac-43dd-bc12-00289ec29a3e",
   "metadata": {},
   "outputs": [
    {
     "name": "stdout",
     "output_type": "stream",
     "text": [
      "   value\n",
      "0    1.0\n",
      "1    4.0\n",
      "2    4.0\n",
      "3    4.0\n",
      "4    5.0\n"
     ]
    }
   ],
   "source": [
    "# Sample DataFrame with missing values\n",
    "data = {'value': [1, np.nan, np.nan, 4, 5]}\n",
    "df = pd.DataFrame(data)\n",
    "\n",
    "# Applying backward fill\n",
    "df['value'].bfill(inplace = True)\n",
    "print(df)"
   ]
  },
  {
   "cell_type": "markdown",
   "id": "69198621-5c54-46d5-ac3d-adb54279d78a",
   "metadata": {},
   "source": [
    "These methods provide you with flexible options for handling missing data based on the nature of your dataset and the specific requirements of your analysis. Correctly addressing missing data is crucial for maintaining the accuracy and reliability of your analytical results."
   ]
  },
  {
   "cell_type": "markdown",
   "id": "f4438c8a-c324-4053-b0ee-b8faa4d1801b",
   "metadata": {},
   "source": [
    "## Data Reshaping\n",
    "\n",
    "Data reshaping is a crucial aspect of data preparation that involves transforming data between wide format (with more columns) and long format (with more rows), depending on the needs of your analysis. This chapter demonstrates how to reshape data from wide to long formats and vice versa using Pandas.\n",
    "\n",
    "### Wide to Long Format\n",
    "\n",
    "The `wide_to_long` function in Pandas is a powerful tool for transforming data from wide format to long format, which is often more amenable to analysis in Pandas:\n",
    "\n",
    "```python\n",
    "import pandas as pd\n",
    "\n",
    "# Sample DataFrame in wide format\n",
    "data = {\n",
    "    'id': [1, 2],\n",
    "    'A_2020': [100, 200],\n",
    "    'A_2021': [150, 250],\n",
    "    'B_2020': [300, 400],\n",
    "    'B_2021': [350, 450]\n",
    "}\n",
    "df = pd.DataFrame(data)\n",
    "\n",
    "# Transforming from wide to long format\n",
    "long_df = pd.wide_to_long(df, stubnames = ['A', 'B'], sep = '_', i = 'id', j = 'year')\n",
    "print(long_df)\n",
    "```\n",
    "\n",
    "Result:\n",
    "\n",
    "```plaintext\n",
    "           A    B\n",
    "id year\n",
    "1  2020  100  300\n",
    "   2021  150  350\n",
    "2  2020  200  400\n",
    "   2021  250  450\n",
    "```\n",
    "\n",
    "This output represents a DataFrame in long format where each row corresponds to a single year for each variable (A and B) and each id."
   ]
  },
  {
   "cell_type": "code",
   "execution_count": 147,
   "id": "7d082e33-7205-4913-866c-b1102f169407",
   "metadata": {},
   "outputs": [
    {
     "name": "stdout",
     "output_type": "stream",
     "text": [
      "           A    B\n",
      "id year          \n",
      "1  2020  100  300\n",
      "2  2020  200  400\n",
      "1  2021  150  350\n",
      "2  2021  250  450\n"
     ]
    }
   ],
   "source": [
    "import pandas as pd\n",
    "\n",
    "# Sample DataFrame in wide format\n",
    "data = {\n",
    "    'id': [1, 2],\n",
    "    'A_2020': [100, 200],\n",
    "    'A_2021': [150, 250],\n",
    "    'B_2020': [300, 400],\n",
    "    'B_2021': [350, 450]\n",
    "}\n",
    "df = pd.DataFrame(data)\n",
    "\n",
    "# Transforming from wide to long format\n",
    "long_df = pd.wide_to_long(df, stubnames = ['A', 'B'], sep = '_', i = 'id', j = 'year')\n",
    "print(long_df)"
   ]
  },
  {
   "cell_type": "markdown",
   "id": "65ec4359-5c30-45d4-93bf-fa3e8c012e3e",
   "metadata": {},
   "source": [
    "### Long to Wide Format\n",
    "\n",
    "Converting data from long to wide format involves creating a pivot table, which can simplify certain types of data analysis by displaying data with one variable per column and combinations of other variables per row:\n",
    "\n",
    "```python\n",
    "# Assuming long_df is the DataFrame in long format from the previous example\n",
    "# We will use a slight modification for clarity\n",
    "long_data = {\n",
    "    'id': [1, 1, 2, 2],\n",
    "    'year': [2020, 2021, 2020, 2021],\n",
    "    'A': [100, 150, 200, 250],\n",
    "    'B': [300, 350, 400, 450]\n",
    "}\n",
    "long_df = pd.DataFrame(long_data)\n",
    "\n",
    "# Transforming from long to wide format\n",
    "wide_df = long_df.pivot(index = 'id', columns = 'year')\n",
    "print(wide_df)\n",
    "```\n",
    "\n",
    "Result:\n",
    "\n",
    "```plaintext\n",
    "       A         B\n",
    "year 2020 2021 2020 2021\n",
    "id\n",
    "1    100  150  300  350\n",
    "2    200  250  400  450\n",
    "```\n",
    "\n",
    "This result demonstrates a DataFrame in wide format where each `id` has associated values of A and B for each year spread across multiple columns."
   ]
  },
  {
   "cell_type": "code",
   "execution_count": 148,
   "id": "bf44f637-9e2d-4e7a-816c-2080eea9ee6e",
   "metadata": {},
   "outputs": [
    {
     "name": "stdout",
     "output_type": "stream",
     "text": [
      "        A         B     \n",
      "year 2020 2021 2020 2021\n",
      "id                      \n",
      "1     100  150  300  350\n",
      "2     200  250  400  450\n"
     ]
    }
   ],
   "source": [
    "# Assuming long_df is the DataFrame in long format from the previous example\n",
    "# We will use a slight modification for clarity\n",
    "long_data = {\n",
    "    'id': [1, 1, 2, 2],\n",
    "    'year': [2020, 2021, 2020, 2021],\n",
    "    'A': [100, 150, 200, 250],\n",
    "    'B': [300, 350, 400, 450]\n",
    "}\n",
    "long_df = pd.DataFrame(long_data)\n",
    "\n",
    "# Transforming from long to wide format\n",
    "wide_df = long_df.pivot(index = 'id', columns = 'year')\n",
    "print(wide_df)"
   ]
  },
  {
   "cell_type": "markdown",
   "id": "5ac915cb-a76b-4824-bcbf-b44bfc989f9c",
   "metadata": {},
   "source": [
    "Reshaping data effectively allows for easier analysis, particularly when dealing with panel data or time series that require operations across different dimensions."
   ]
  },
  {
   "cell_type": "markdown",
   "id": "002e6023-c46b-4c7d-aeea-9bd9eea3cd98",
   "metadata": {},
   "source": [
    "## Categorical Data Operations\n",
    "\n",
    "Categorical data is common in many data sets involving categories or labels, such as survey responses, product types, or user roles. Efficient handling of such data can lead to significant performance improvements and ease of use in data manipulation and analysis. Pandas provides robust support for categorical data, including converting data types to categorical and specifying the order of categories.\n",
    "\n",
    "### Convert Column to Categorical\n",
    "\n",
    "Converting a column to a categorical type can optimize memory usage and improve performance, especially for large datasets. Here’s how to convert a column to categorical:\n",
    "\n",
    "```python\n",
    "import pandas as pd\n",
    "\n",
    "# Sample DataFrame\n",
    "data = {'product': ['apple', 'banana', 'apple', 'orange', 'banana', 'apple']}\n",
    "df = pd.DataFrame(data)\n",
    "\n",
    "# Converting 'product' column to categorical\n",
    "df['product'] = df['product'].astype('category')\n",
    "print(df['product'])\n",
    "```\n",
    "\n",
    "Result:\n",
    "\n",
    "```plaintext\n",
    "0     apple\n",
    "1    banana\n",
    "2     apple\n",
    "3    orange\n",
    "4    banana\n",
    "5     apple\n",
    "Name: product, dtype: category\n",
    "Categories (3, object): ['apple', 'banana', 'orange']\n",
    "```\n",
    "\n",
    "This shows that the 'product' column is now of type `category` with three categories."
   ]
  },
  {
   "cell_type": "code",
   "execution_count": 149,
   "id": "e47036f4-6f0f-45e2-91dc-7c7c1b6b4944",
   "metadata": {},
   "outputs": [
    {
     "name": "stdout",
     "output_type": "stream",
     "text": [
      "0     apple\n",
      "1    banana\n",
      "2     apple\n",
      "3    orange\n",
      "4    banana\n",
      "5     apple\n",
      "Name: product, dtype: category\n",
      "Categories (3, object): ['apple', 'banana', 'orange']\n"
     ]
    }
   ],
   "source": [
    "import pandas as pd\n",
    "\n",
    "# Sample DataFrame\n",
    "data = {'product': ['apple', 'banana', 'apple', 'orange', 'banana', 'apple']}\n",
    "df = pd.DataFrame(data)\n",
    "\n",
    "# Converting 'product' column to categorical\n",
    "df['product'] = df['product'].astype('category')\n",
    "print(df['product'])"
   ]
  },
  {
   "cell_type": "markdown",
   "id": "2429aeaf-bede-4a96-8710-48234c2c033a",
   "metadata": {},
   "source": [
    "### Order Categories\n",
    "\n",
    "Sometimes, the natural order of categories matters (e.g., in ordinal data such as 'low', 'medium', 'high'). Pandas allows you to set and order categories:\n",
    "\n",
    "```python\n",
    "# Sample DataFrame with unordered categorical data\n",
    "data = {'size': ['medium', 'small', 'large', 'small', 'large', 'medium']}\n",
    "df = pd.DataFrame(data)\n",
    "df['size'] = df['size'].astype('category')\n",
    "\n",
    "# Setting and ordering categories\n",
    "df['size'].cat.set_categories(['small', 'medium', 'large'], ordered = True, inplace = True)\n",
    "print(df['size'])\n",
    "```\n",
    "\n",
    "Result:\n",
    "\n",
    "```plaintext\n",
    "0    medium\n",
    "1     small\n",
    "2     large\n",
    "3     small\n",
    "4     large\n",
    "5    medium\n",
    "Name: size, dtype: category\n",
    "Categories (3, object): ['small' < 'medium' < 'large']\n",
    "```\n",
    "\n",
    "This conversion and ordering process ensures that the 'size' column is not only categorical but also correctly ordered from 'small' to 'large'."
   ]
  },
  {
   "cell_type": "code",
   "execution_count": 150,
   "id": "84c8e48a-faa1-4408-80e5-45d871ad1798",
   "metadata": {},
   "outputs": [
    {
     "name": "stdout",
     "output_type": "stream",
     "text": [
      "0    medium\n",
      "1     small\n",
      "2     large\n",
      "3     small\n",
      "4     large\n",
      "5    medium\n",
      "Name: size, dtype: category\n",
      "Categories (3, object): ['small' < 'medium' < 'large']\n"
     ]
    }
   ],
   "source": [
    "# Sample DataFrame with unordered categorical data\n",
    "data = {'size': ['medium', 'small', 'large', 'small', 'large', 'medium']}\n",
    "df = pd.DataFrame(data)\n",
    "df['size'] = df['size'].astype('category')\n",
    "\n",
    "# Setting and ordering categories\n",
    "df['size'] = df['size'].cat.set_categories(['small', 'medium', 'large'], ordered = True, )\n",
    "print(df['size'])"
   ]
  },
  {
   "cell_type": "markdown",
   "id": "612eb997-aca9-46af-aa72-23bc7c1a3a7a",
   "metadata": {},
   "source": [
    "These categorical data operations in Pandas facilitate the effective handling of nominal and ordinal data, enhancing both performance and the capacity for meaningful data analysis."
   ]
  },
  {
   "cell_type": "markdown",
   "id": "d1a13009-6536-4123-8586-c8b2e1c1ee05",
   "metadata": {},
   "source": [
    "## Advanced Indexing\n",
    "\n",
    "Advanced indexing techniques in Pandas enhance data manipulation capabilities, allowing for more sophisticated data retrieval and modification operations. This chapter will focus on resetting indexes, setting multiple indexes, and slicing through MultiIndexes, which are crucial for handling complex datasets effectively.\n",
    "\n",
    "### Reset Index\n",
    "\n",
    "Resetting the index of a DataFrame can be useful when the index needs to be treated as a regular column, or when you want to revert the index back to the default integer index:\n",
    "\n",
    "```python\n",
    "import pandas as pd\n",
    "\n",
    "# Sample DataFrame\n",
    "data = {'state': ['CA', 'NY', 'FL'],\n",
    "        'population': [39500000, 19500000, 21400000]}\n",
    "df = pd.DataFrame(data)\n",
    "df.set_index('state', inplace = True)\n",
    "\n",
    "# Resetting the index\n",
    "reset_df = df.reset_index(drop = True)\n",
    "print(reset_df)\n",
    "```\n",
    "\n",
    "Result:\n",
    "\n",
    "```plaintext\n",
    "   population\n",
    "0    39500000\n",
    "1    19500000\n",
    "2    21400000\n",
    "```\n",
    "\n",
    "Using `drop=True` removes the original index and just keeps the data columns."
   ]
  },
  {
   "cell_type": "code",
   "execution_count": 151,
   "id": "4a1a0df3-83d8-4bea-bf09-adb2eb605555",
   "metadata": {},
   "outputs": [
    {
     "name": "stdout",
     "output_type": "stream",
     "text": [
      "   population\n",
      "0    39500000\n",
      "1    19500000\n",
      "2    21400000\n"
     ]
    }
   ],
   "source": [
    "import pandas as pd\n",
    "\n",
    "# Sample DataFrame\n",
    "data = {'state': ['CA', 'NY', 'FL'],\n",
    "        'population': [39500000, 19500000, 21400000]}\n",
    "df = pd.DataFrame(data)\n",
    "df.set_index('state', inplace = True)\n",
    "\n",
    "# Resetting the index\n",
    "reset_df = df.reset_index(drop = True)\n",
    "print(reset_df)"
   ]
  },
  {
   "cell_type": "markdown",
   "id": "1c0e5aa6-1ad5-4da4-943b-84a2a0072676",
   "metadata": {},
   "source": [
    "### Set Multiple Indexes\n",
    "\n",
    "Setting multiple columns as an index can provide powerful ways to organize and select data, especially useful in panel data or hierarchical datasets:\n",
    "\n",
    "```python\n",
    "# Re-using previous DataFrame without resetting\n",
    "df = pd.DataFrame(data)\n",
    "\n",
    "# Setting multiple columns as an index\n",
    "df.set_index(['state', 'population'], inplace = True)\n",
    "print(df)\n",
    "```\n",
    "\n",
    "Result:\n",
    "\n",
    "```plaintext\n",
    "Empty DataFrame\n",
    "Columns: []\n",
    "Index: [(CA, 39500000), (NY, 19500000), (FL, 21400000)]\n",
    "```\n",
    "\n",
    "The DataFrame now uses a composite index made up of 'state' and 'population'."
   ]
  },
  {
   "cell_type": "code",
   "execution_count": 152,
   "id": "9964de4d-6aee-41f9-a2aa-c32a74627968",
   "metadata": {},
   "outputs": [
    {
     "name": "stdout",
     "output_type": "stream",
     "text": [
      "Empty DataFrame\n",
      "Columns: []\n",
      "Index: [(CA, 39500000), (NY, 19500000), (FL, 21400000)]\n"
     ]
    }
   ],
   "source": [
    "# Re-using previous DataFrame without resetting\n",
    "df = pd.DataFrame(data)\n",
    "\n",
    "# Setting multiple columns as an index\n",
    "df.set_index(['state', 'population'], inplace = True)\n",
    "print(df)"
   ]
  },
  {
   "cell_type": "markdown",
   "id": "932de451-d27f-4a66-b697-048997ea4c3b",
   "metadata": {},
   "source": [
    "### MultiIndex Slicing\n",
    "\n",
    "Slicing data with a MultiIndex can be complex but powerful. The `xs` method (cross-section) is one of the most convenient ways to slice multi-level indexes:\n",
    "\n",
    "```python\n",
    "# Assuming the DataFrame with a MultiIndex from the previous example\n",
    "# Adding some values to demonstrate slicing\n",
    "df['data'] = [10, 20, 30]\n",
    "\n",
    "# Slicing with xs\n",
    "slice_df = df.xs(key = 'CA', level = 'state')\n",
    "print(slice_df)\n",
    "```\n",
    "\n",
    "Result:\n",
    "\n",
    "```plaintext\n",
    "            data\n",
    "population\n",
    "39500000      10\n",
    "```\n",
    "\n",
    "This operation retrieves all rows associated with 'CA' from the 'state' level of the index, showing only the data for the population of California."
   ]
  },
  {
   "cell_type": "code",
   "execution_count": 153,
   "id": "d07c2c1a-0a97-4981-9bee-7d274b0aa82b",
   "metadata": {},
   "outputs": [
    {
     "name": "stdout",
     "output_type": "stream",
     "text": [
      "            data\n",
      "population      \n",
      "39500000      10\n"
     ]
    }
   ],
   "source": [
    "# Assuming the DataFrame with a MultiIndex from the previous example\n",
    "# Adding some values to demonstrate slicing\n",
    "df['data'] = [10, 20, 30]\n",
    "\n",
    "# Slicing with xs\n",
    "slice_df = df.xs(key = 'CA', level = 'state')\n",
    "print(slice_df)"
   ]
  },
  {
   "cell_type": "markdown",
   "id": "770c7ff6-8afc-4b38-aae9-eb9e04bac027",
   "metadata": {},
   "source": [
    "Advanced indexing techniques provide nuanced control over data access patterns in Pandas, enhancing data analysis and manipulation capabilities in a wide range of applications."
   ]
  },
  {
   "cell_type": "markdown",
   "id": "8a9f928f-df70-48b9-ada4-dc6a361fa481",
   "metadata": {},
   "source": [
    "## Efficient Computations\n",
    "\n",
    "Efficient computation is key in handling large datasets or performing complex operations rapidly. Pandas includes features that leverage optimized code paths to speed up operations and reduce memory usage. This chapter discusses using `eval()` for arithmetic operations and the `query()` method for filtering, which are both designed to enhance performance.\n",
    "\n",
    "### Use of eval() for Efficient Operations\n",
    "\n",
    "The `eval()` function in Pandas allows for the evaluation of string expressions using DataFrame columns, which can be significantly faster, especially for large DataFrames, as it avoids intermediate data copies:\n",
    "\n",
    "```python\n",
    "import pandas as pd\n",
    "\n",
    "# Sample DataFrame\n",
    "data = {'col1': [1, 2, 3],\n",
    "        'col2': [4, 5, 6]}\n",
    "df = pd.DataFrame(data)\n",
    "\n",
    "# Using eval() to perform efficient operations\n",
    "df['col3'] = df.eval('col1 + col2')\n",
    "print(df)\n",
    "```\n",
    "\n",
    "Result:\n",
    "\n",
    "```plaintext\n",
    "   col1  col2  col3\n",
    "0     1     4     5\n",
    "1     2     5     7\n",
    "2     3     6     9\n",
    "```\n",
    "\n",
    "This example demonstrates how to add two columns using `eval()`, which can be faster than traditional methods for large datasets due to optimized computation."
   ]
  },
  {
   "cell_type": "code",
   "execution_count": 154,
   "id": "7417da63-2ab4-4acd-8437-d465ca817696",
   "metadata": {},
   "outputs": [
    {
     "name": "stdout",
     "output_type": "stream",
     "text": [
      "   col1  col2  col3\n",
      "0     1     4     5\n",
      "1     2     5     7\n",
      "2     3     6     9\n"
     ]
    }
   ],
   "source": [
    "import pandas as pd\n",
    "\n",
    "# Sample DataFrame\n",
    "data = {'col1': [1, 2, 3],\n",
    "        'col2': [4, 5, 6]}\n",
    "df = pd.DataFrame(data)\n",
    "\n",
    "# Using eval() to perform efficient operations\n",
    "df['col3'] = df.eval('col1 + col2')\n",
    "print(df)"
   ]
  },
  {
   "cell_type": "markdown",
   "id": "ccd69457-fb1f-4371-bb9a-6a780335bf7b",
   "metadata": {},
   "source": [
    "### Query Method for Filtering\n",
    "\n",
    "The `query()` method allows you to filter DataFrame rows using an intuitive query string, which can be more readable and performant compared to traditional Boolean indexing:\n",
    "\n",
    "```python\n",
    "# Sample DataFrame\n",
    "data = {'col1': [10, 20, 30],\n",
    "        'col2': [20, 15, 25]}\n",
    "df = pd.DataFrame(data)\n",
    "\n",
    "# Using query() to filter data\n",
    "filtered_df = df.query('col1 < col2')\n",
    "print(filtered_df)\n",
    "```\n",
    "\n",
    "Result:\n",
    "\n",
    "```plaintext\n",
    "   col1  col2\n",
    "0    10    20\n",
    "```\n",
    "\n",
    "In this example, `query()` filters the DataFrame for rows where 'col1' is less than 'col2'. This method can be especially efficient when working with large DataFrames, as it utilizes numexpr for fast evaluation of array expressions."
   ]
  },
  {
   "cell_type": "code",
   "execution_count": 155,
   "id": "e735bcee-713f-42a4-9603-d22e7504a213",
   "metadata": {},
   "outputs": [
    {
     "name": "stdout",
     "output_type": "stream",
     "text": [
      "   col1  col2\n",
      "0    10    20\n"
     ]
    }
   ],
   "source": [
    "# Sample DataFrame\n",
    "data = {'col1': [10, 20, 30],\n",
    "        'col2': [20, 15, 25]}\n",
    "df = pd.DataFrame(data)\n",
    "\n",
    "# Using query() to filter data\n",
    "filtered_df = df.query('col1 < col2')\n",
    "print(filtered_df)"
   ]
  },
  {
   "cell_type": "markdown",
   "id": "032908fa-d82f-47d2-bd33-c64166ce3265",
   "metadata": {},
   "source": [
    "These methods enhance Pandas' performance, making it a powerful tool for data analysis, particularly when working with large or complex datasets. Efficient computations ensure that resources are optimally used, speeding up data processing and analysis."
   ]
  },
  {
   "cell_type": "markdown",
   "id": "ea883329-4e33-4d7c-8c07-d62555ec9025",
   "metadata": {},
   "source": [
    "## Advanced Data Merging\n",
    "\n",
    "Combining datasets is a common requirement in data analysis. Beyond basic merges, Pandas offers advanced techniques similar to SQL operations and allows concatenation along different axes. This chapter explores SQL-like joins and various concatenation methods to effectively combine multiple datasets.\n",
    "\n",
    "### SQL-like Joins\n",
    "\n",
    "SQL-like joins in Pandas are achieved using the `merge` function. This method is extremely versatile, allowing for inner, outer, left, and right joins. Here's how to perform a left join, which includes all records from the left DataFrame and the matched records from the right DataFrame. If there is no match, the result is `NaN` on the side of the right DataFrame.\n",
    "\n",
    "```python\n",
    "import pandas as pd\n",
    "\n",
    "# Sample DataFrames\n",
    "data1 = {'col': ['A', 'B', 'C'],\n",
    "         'col1': [1, 2, 3]}\n",
    "df1 = pd.DataFrame(data1)\n",
    "data2 = {'col': ['B', 'C', 'D'],\n",
    "         'col2': [4, 5, 6]}\n",
    "df2 = pd.DataFrame(data2)\n",
    "\n",
    "# Performing a left join\n",
    "left_joined_df = pd.merge(df1, df2, how = 'left', on = 'col')\n",
    "print(left_joined_df)\n",
    "```\n",
    "\n",
    "Result:\n",
    "\n",
    "```plaintext\n",
    "  col  col1  col2\n",
    "0   A     1   NaN\n",
    "1   B     2   4.0\n",
    "2   C     3   5.0\n",
    "```\n",
    "\n",
    "This result shows that all entries from `df1` are included, and where there are matching 'col' values in `df2`, the 'col2' values are also included."
   ]
  },
  {
   "cell_type": "code",
   "execution_count": 156,
   "id": "323148f3-a866-4c6e-b837-b6770dbab84e",
   "metadata": {},
   "outputs": [
    {
     "name": "stdout",
     "output_type": "stream",
     "text": [
      "  col  col1  col2\n",
      "0   A     1   NaN\n",
      "1   B     2   4.0\n",
      "2   C     3   5.0\n"
     ]
    }
   ],
   "source": [
    "import pandas as pd\n",
    "\n",
    "# Sample DataFrames\n",
    "data1 = {'col': ['A', 'B', 'C'],\n",
    "         'col1': [1, 2, 3]}\n",
    "df1 = pd.DataFrame(data1)\n",
    "data2 = {'col': ['B', 'C', 'D'],\n",
    "         'col2': [4, 5, 6]}\n",
    "df2 = pd.DataFrame(data2)\n",
    "\n",
    "# Performing a left join\n",
    "left_joined_df = pd.merge(df1, df2, how = 'left', on = 'col')\n",
    "print(left_joined_df)"
   ]
  },
  {
   "cell_type": "markdown",
   "id": "e892540d-e786-4e83-91ad-17cd9589e153",
   "metadata": {},
   "source": [
    "### Concatenating Along a Different Axis\n",
    "\n",
    "Concatenation can be performed not just vertically (default axis=0), but also horizontally (axis=1). This is useful when you want to add new columns to an existing DataFrame:\n",
    "\n",
    "```python\n",
    "# Concatenating df1 and df2 along axis 1\n",
    "concatenated_df = pd.concat([df1, df2], axis = 1)\n",
    "print(concatenated_df)\n",
    "```\n",
    "\n",
    "Result:\n",
    "\n",
    "```plaintext\n",
    "  col  col1 col  col2\n",
    "0   A     1   B     4\n",
    "1   B     2   C     5\n",
    "2   C     3   D     6\n",
    "```\n",
    "\n",
    "This result demonstrates that the DataFrames are concatenated side-by-side, aligning by index. Note that because the 'col' values do not match between `df1` and `df2`, they appear disjointed, illustrating the importance of index alignment in such operations."
   ]
  },
  {
   "cell_type": "code",
   "execution_count": 157,
   "id": "7324a2b7-81e2-4301-89de-54fafb3d1137",
   "metadata": {},
   "outputs": [
    {
     "name": "stdout",
     "output_type": "stream",
     "text": [
      "  col  col1 col  col2\n",
      "0   A     1   B     4\n",
      "1   B     2   C     5\n",
      "2   C     3   D     6\n"
     ]
    }
   ],
   "source": [
    "# Concatenating df1 and df2 along axis 1\n",
    "concatenated_df = pd.concat([df1, df2], axis = 1)\n",
    "print(concatenated_df)"
   ]
  },
  {
   "cell_type": "markdown",
   "id": "d7853e51-ee24-4529-8ce3-45323e29f697",
   "metadata": {},
   "source": [
    "These advanced data merging techniques provide powerful tools for data integration, allowing for complex manipulations and combinations of datasets, much like you would accomplish using SQL in a database environment."
   ]
  },
  {
   "cell_type": "markdown",
   "id": "6888db52-3b8b-443f-8100-b714ee7cf91e",
   "metadata": {},
   "source": [
    "\n",
    "## Data Quality Checks\n",
    "\n",
    "Ensuring data quality is a critical step in any data analysis process. Data often comes with issues like missing values, incorrect formats, or outliers, which can significantly impact analysis results. Pandas provides tools to perform these checks efficiently. This chapter focuses on using assertions to validate data quality.\n",
    "\n",
    "### Assert Statement for Data Validation\n",
    "\n",
    "The `assert` statement in Python is an effective way to ensure that certain conditions are met in your data. It is used to perform sanity checks and can halt the program if the assertion fails, which is helpful in identifying data quality issues early in the data processing pipeline.\n",
    "\n",
    "#### Checking for Missing Values\n",
    "\n",
    "One common check is to ensure that there are no missing values in your DataFrame. Here's how you can use an `assert` statement to verify that there are no missing values across the entire DataFrame:\n",
    "\n",
    "```python\n",
    "import pandas as pd\n",
    "import numpy as np\n",
    "\n",
    "# Sample DataFrame with possible missing values\n",
    "data = {'col1': [1, 2, np.nan], 'col2': [4, np.nan, 6]}\n",
    "df = pd.DataFrame(data)\n",
    "\n",
    "# Assertion to check for missing values\n",
    "try:\n",
    "    assert df.notnull().all().all(), \"There are missing values in the dataframe\"\n",
    "except AssertionError as e:\n",
    "    print(e)\n",
    "```\n",
    "\n",
    "If the DataFrame contains missing values, the assertion fails, and the error message \"There are missing values in the dataframe\" is printed. If no missing values are present, the script continues without interruption.\n",
    "\n",
    "This method of data validation helps in enforcing that data meets the expected quality standards before proceeding with further analysis, thus safeguarding against analysis based on faulty data.\n"
   ]
  }
 ],
 "metadata": {
  "kernelspec": {
   "display_name": "Python 3 (ipykernel)",
   "language": "python",
   "name": "python3"
  },
  "language_info": {
   "codemirror_mode": {
    "name": "ipython",
    "version": 3
   },
   "file_extension": ".py",
   "mimetype": "text/x-python",
   "name": "python",
   "nbconvert_exporter": "python",
   "pygments_lexer": "ipython3",
   "version": "3.9.16"
  },
  "toc-autonumbering": false,
  "toc-showcode": false,
  "toc-showmarkdowntxt": false,
  "widgets": {
   "application/vnd.jupyter.widget-state+json": {
    "state": {},
    "version_major": 2,
    "version_minor": 0
   }
  }
 },
 "nbformat": 4,
 "nbformat_minor": 5
}
